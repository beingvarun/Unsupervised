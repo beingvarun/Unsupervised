{
 "cells": [
  {
   "cell_type": "markdown",
   "metadata": {},
   "source": [
    "# Project: Identify Customer Segments\n",
    "\n",
    "In this project, you will apply unsupervised learning techniques to identify segments of the population that form the core customer base for a mail-order sales company in Germany. These segments can then be used to direct marketing campaigns towards audiences that will have the highest expected rate of returns. The data that you will use has been provided by our partners at Bertelsmann Arvato Analytics, and represents a real-life data science task.\n",
    "\n",
    "This notebook will help you complete this task by providing a framework within which you will perform your analysis steps. In each step of the project, you will see some text describing the subtask that you will perform, followed by one or more code cells for you to complete your work. **Feel free to add additional code and markdown cells as you go along so that you can explore everything in precise chunks.** The code cells provided in the base template will outline only the major tasks, and will usually not be enough to cover all of the minor tasks that comprise it.\n",
    "\n",
    "It should be noted that while there will be precise guidelines on how you should handle certain tasks in the project, there will also be places where an exact specification is not provided. **There will be times in the project where you will need to make and justify your own decisions on how to treat the data.** These are places where there may not be only one way to handle the data. In real-life tasks, there may be many valid ways to approach an analysis task. One of the most important things you can do is clearly document your approach so that other scientists can understand the decisions you've made.\n",
    "\n",
    "At the end of most sections, there will be a Markdown cell labeled **Discussion**. In these cells, you will report your findings for the completed section, as well as document the decisions that you made in your approach to each subtask. **Your project will be evaluated not just on the code used to complete the tasks outlined, but also your communication about your observations and conclusions at each stage.**"
   ]
  },
  {
   "cell_type": "code",
   "execution_count": 1,
   "metadata": {},
   "outputs": [
    {
     "data": {
      "text/plain": [
       "'\\nImport note: The classroom currently uses sklearn version 0.19.\\nIf you need to use an imputer, it is available in sklearn.preprocessing.Imputer,\\ninstead of sklearn.impute as in newer versions of sklearn.\\n'"
      ]
     },
     "execution_count": 1,
     "metadata": {},
     "output_type": "execute_result"
    }
   ],
   "source": [
    "# import libraries here; add more as necessary\n",
    "import numpy as np\n",
    "import pandas as pd\n",
    "import matplotlib.pyplot as plt\n",
    "import seaborn as sns\n",
    "\n",
    "from sklearn.preprocessing import Imputer\n",
    "from sklearn.decomposition import PCA\n",
    "from sklearn.preprocessing import StandardScaler\n",
    "from sklearn.cluster import KMeans\n",
    "from sklearn.metrics import confusion_matrix, accuracy_score\n",
    "\n",
    "# magic word for producing visualizations in notebook\n",
    "%matplotlib inline\n",
    "\n",
    "'''\n",
    "Import note: The classroom currently uses sklearn version 0.19.\n",
    "If you need to use an imputer, it is available in sklearn.preprocessing.Imputer,\n",
    "instead of sklearn.impute as in newer versions of sklearn.\n",
    "'''"
   ]
  },
  {
   "cell_type": "markdown",
   "metadata": {},
   "source": [
    "### Step 0: Load the Data\n",
    "\n",
    "There are four files associated with this project (not including this one):\n",
    "\n",
    "- `Udacity_AZDIAS_Subset.csv`: Demographics data for the general population of Germany; 891211 persons (rows) x 85 features (columns).\n",
    "- `Udacity_CUSTOMERS_Subset.csv`: Demographics data for customers of a mail-order company; 191652 persons (rows) x 85 features (columns).\n",
    "- `Data_Dictionary.md`: Detailed information file about the features in the provided datasets.\n",
    "- `AZDIAS_Feature_Summary.csv`: Summary of feature attributes for demographics data; 85 features (rows) x 4 columns\n",
    "\n",
    "Each row of the demographics files represents a single person, but also includes information outside of individuals, including information about their household, building, and neighborhood. You will use this information to cluster the general population into groups with similar demographic properties. Then, you will see how the people in the customers dataset fit into those created clusters. The hope here is that certain clusters are over-represented in the customers data, as compared to the general population; those over-represented clusters will be assumed to be part of the core userbase. This information can then be used for further applications, such as targeting for a marketing campaign.\n",
    "\n",
    "To start off with, load in the demographics data for the general population into a pandas DataFrame, and do the same for the feature attributes summary. Note for all of the `.csv` data files in this project: they're semicolon (`;`) delimited, so you'll need an additional argument in your [`read_csv()`](https://pandas.pydata.org/pandas-docs/stable/generated/pandas.read_csv.html) call to read in the data properly. Also, considering the size of the main dataset, it may take some time for it to load completely.\n",
    "\n",
    "Once the dataset is loaded, it's recommended that you take a little bit of time just browsing the general structure of the dataset and feature summary file. You'll be getting deep into the innards of the cleaning in the first major step of the project, so gaining some general familiarity can help you get your bearings."
   ]
  },
  {
   "cell_type": "code",
   "execution_count": 2,
   "metadata": {},
   "outputs": [],
   "source": [
    "# Load in the general demographics data.\n",
    "azdias = pd.read_csv('Udacity_AZDIAS_Subset.csv', sep=';')\n",
    "azdias2 = azdias\n",
    "# Load in the feature summary file.\n",
    "feat_info = pd.read_csv('AZDIAS_Feature_Summary.csv', sep=';')"
   ]
  },
  {
   "cell_type": "code",
   "execution_count": 3,
   "metadata": {},
   "outputs": [
    {
     "name": "stdout",
     "output_type": "stream",
     "text": [
      "(891221, 85)\n"
     ]
    }
   ],
   "source": [
    "# Check the structure of the data after it's loaded (e.g. print the number of\n",
    "# rows and columns, print the first few rows).\n",
    "\n",
    "print(azdias2.shape)"
   ]
  },
  {
   "cell_type": "code",
   "execution_count": 4,
   "metadata": {},
   "outputs": [
    {
     "data": {
      "text/html": [
       "<div>\n",
       "<style scoped>\n",
       "    .dataframe tbody tr th:only-of-type {\n",
       "        vertical-align: middle;\n",
       "    }\n",
       "\n",
       "    .dataframe tbody tr th {\n",
       "        vertical-align: top;\n",
       "    }\n",
       "\n",
       "    .dataframe thead th {\n",
       "        text-align: right;\n",
       "    }\n",
       "</style>\n",
       "<table border=\"1\" class=\"dataframe\">\n",
       "  <thead>\n",
       "    <tr style=\"text-align: right;\">\n",
       "      <th></th>\n",
       "      <th>AGER_TYP</th>\n",
       "      <th>ALTERSKATEGORIE_GROB</th>\n",
       "      <th>ANREDE_KZ</th>\n",
       "      <th>CJT_GESAMTTYP</th>\n",
       "      <th>FINANZ_MINIMALIST</th>\n",
       "      <th>FINANZ_SPARER</th>\n",
       "      <th>FINANZ_VORSORGER</th>\n",
       "      <th>FINANZ_ANLEGER</th>\n",
       "      <th>FINANZ_UNAUFFAELLIGER</th>\n",
       "      <th>FINANZ_HAUSBAUER</th>\n",
       "      <th>...</th>\n",
       "      <th>PLZ8_ANTG1</th>\n",
       "      <th>PLZ8_ANTG2</th>\n",
       "      <th>PLZ8_ANTG3</th>\n",
       "      <th>PLZ8_ANTG4</th>\n",
       "      <th>PLZ8_BAUMAX</th>\n",
       "      <th>PLZ8_HHZ</th>\n",
       "      <th>PLZ8_GBZ</th>\n",
       "      <th>ARBEIT</th>\n",
       "      <th>ORTSGR_KLS9</th>\n",
       "      <th>RELAT_AB</th>\n",
       "    </tr>\n",
       "  </thead>\n",
       "  <tbody>\n",
       "    <tr>\n",
       "      <th>0</th>\n",
       "      <td>-1</td>\n",
       "      <td>2</td>\n",
       "      <td>1</td>\n",
       "      <td>2.0</td>\n",
       "      <td>3</td>\n",
       "      <td>4</td>\n",
       "      <td>3</td>\n",
       "      <td>5</td>\n",
       "      <td>5</td>\n",
       "      <td>3</td>\n",
       "      <td>...</td>\n",
       "      <td>NaN</td>\n",
       "      <td>NaN</td>\n",
       "      <td>NaN</td>\n",
       "      <td>NaN</td>\n",
       "      <td>NaN</td>\n",
       "      <td>NaN</td>\n",
       "      <td>NaN</td>\n",
       "      <td>NaN</td>\n",
       "      <td>NaN</td>\n",
       "      <td>NaN</td>\n",
       "    </tr>\n",
       "    <tr>\n",
       "      <th>1</th>\n",
       "      <td>-1</td>\n",
       "      <td>1</td>\n",
       "      <td>2</td>\n",
       "      <td>5.0</td>\n",
       "      <td>1</td>\n",
       "      <td>5</td>\n",
       "      <td>2</td>\n",
       "      <td>5</td>\n",
       "      <td>4</td>\n",
       "      <td>5</td>\n",
       "      <td>...</td>\n",
       "      <td>2.0</td>\n",
       "      <td>3.0</td>\n",
       "      <td>2.0</td>\n",
       "      <td>1.0</td>\n",
       "      <td>1.0</td>\n",
       "      <td>5.0</td>\n",
       "      <td>4.0</td>\n",
       "      <td>3.0</td>\n",
       "      <td>5.0</td>\n",
       "      <td>4.0</td>\n",
       "    </tr>\n",
       "    <tr>\n",
       "      <th>2</th>\n",
       "      <td>-1</td>\n",
       "      <td>3</td>\n",
       "      <td>2</td>\n",
       "      <td>3.0</td>\n",
       "      <td>1</td>\n",
       "      <td>4</td>\n",
       "      <td>1</td>\n",
       "      <td>2</td>\n",
       "      <td>3</td>\n",
       "      <td>5</td>\n",
       "      <td>...</td>\n",
       "      <td>3.0</td>\n",
       "      <td>3.0</td>\n",
       "      <td>1.0</td>\n",
       "      <td>0.0</td>\n",
       "      <td>1.0</td>\n",
       "      <td>4.0</td>\n",
       "      <td>4.0</td>\n",
       "      <td>3.0</td>\n",
       "      <td>5.0</td>\n",
       "      <td>2.0</td>\n",
       "    </tr>\n",
       "    <tr>\n",
       "      <th>3</th>\n",
       "      <td>2</td>\n",
       "      <td>4</td>\n",
       "      <td>2</td>\n",
       "      <td>2.0</td>\n",
       "      <td>4</td>\n",
       "      <td>2</td>\n",
       "      <td>5</td>\n",
       "      <td>2</td>\n",
       "      <td>1</td>\n",
       "      <td>2</td>\n",
       "      <td>...</td>\n",
       "      <td>2.0</td>\n",
       "      <td>2.0</td>\n",
       "      <td>2.0</td>\n",
       "      <td>0.0</td>\n",
       "      <td>1.0</td>\n",
       "      <td>3.0</td>\n",
       "      <td>4.0</td>\n",
       "      <td>2.0</td>\n",
       "      <td>3.0</td>\n",
       "      <td>3.0</td>\n",
       "    </tr>\n",
       "    <tr>\n",
       "      <th>4</th>\n",
       "      <td>-1</td>\n",
       "      <td>3</td>\n",
       "      <td>1</td>\n",
       "      <td>5.0</td>\n",
       "      <td>4</td>\n",
       "      <td>3</td>\n",
       "      <td>4</td>\n",
       "      <td>1</td>\n",
       "      <td>3</td>\n",
       "      <td>2</td>\n",
       "      <td>...</td>\n",
       "      <td>2.0</td>\n",
       "      <td>4.0</td>\n",
       "      <td>2.0</td>\n",
       "      <td>1.0</td>\n",
       "      <td>2.0</td>\n",
       "      <td>3.0</td>\n",
       "      <td>3.0</td>\n",
       "      <td>4.0</td>\n",
       "      <td>6.0</td>\n",
       "      <td>5.0</td>\n",
       "    </tr>\n",
       "  </tbody>\n",
       "</table>\n",
       "<p>5 rows × 85 columns</p>\n",
       "</div>"
      ],
      "text/plain": [
       "   AGER_TYP  ALTERSKATEGORIE_GROB  ANREDE_KZ  CJT_GESAMTTYP  \\\n",
       "0        -1                     2          1            2.0   \n",
       "1        -1                     1          2            5.0   \n",
       "2        -1                     3          2            3.0   \n",
       "3         2                     4          2            2.0   \n",
       "4        -1                     3          1            5.0   \n",
       "\n",
       "   FINANZ_MINIMALIST  FINANZ_SPARER  FINANZ_VORSORGER  FINANZ_ANLEGER  \\\n",
       "0                  3              4                 3               5   \n",
       "1                  1              5                 2               5   \n",
       "2                  1              4                 1               2   \n",
       "3                  4              2                 5               2   \n",
       "4                  4              3                 4               1   \n",
       "\n",
       "   FINANZ_UNAUFFAELLIGER  FINANZ_HAUSBAUER    ...     PLZ8_ANTG1  PLZ8_ANTG2  \\\n",
       "0                      5                 3    ...            NaN         NaN   \n",
       "1                      4                 5    ...            2.0         3.0   \n",
       "2                      3                 5    ...            3.0         3.0   \n",
       "3                      1                 2    ...            2.0         2.0   \n",
       "4                      3                 2    ...            2.0         4.0   \n",
       "\n",
       "   PLZ8_ANTG3  PLZ8_ANTG4  PLZ8_BAUMAX  PLZ8_HHZ  PLZ8_GBZ  ARBEIT  \\\n",
       "0         NaN         NaN          NaN       NaN       NaN     NaN   \n",
       "1         2.0         1.0          1.0       5.0       4.0     3.0   \n",
       "2         1.0         0.0          1.0       4.0       4.0     3.0   \n",
       "3         2.0         0.0          1.0       3.0       4.0     2.0   \n",
       "4         2.0         1.0          2.0       3.0       3.0     4.0   \n",
       "\n",
       "   ORTSGR_KLS9  RELAT_AB  \n",
       "0          NaN       NaN  \n",
       "1          5.0       4.0  \n",
       "2          5.0       2.0  \n",
       "3          3.0       3.0  \n",
       "4          6.0       5.0  \n",
       "\n",
       "[5 rows x 85 columns]"
      ]
     },
     "execution_count": 4,
     "metadata": {},
     "output_type": "execute_result"
    }
   ],
   "source": [
    "#print the first few rows\n",
    "azdias2.head(n=5)"
   ]
  },
  {
   "cell_type": "markdown",
   "metadata": {},
   "source": [
    " **Tip**: Add additional cells to keep everything in reasonably-sized chunks! Keyboard shortcut `esc --> a` (press escape to enter command mode, then press the 'A' key) adds a new cell before the active cell, and `esc --> b` adds a new cell after the active cell. If you need to convert an active cell to a markdown cell, use `esc --> m` and to convert to a code cell, use `esc --> y`. \n",
    "\n",
    "## Step 1: Preprocessing\n",
    "\n",
    "### Step 1.1: Assess Missing Data\n",
    "\n",
    "The feature summary file contains a summary of properties for each demographics data column. You will use this file to help you make cleaning decisions during this stage of the project. First of all, you should assess the demographics data in terms of missing data. Pay attention to the following points as you perform your analysis, and take notes on what you observe. Make sure that you fill in the **Discussion** cell with your findings and decisions at the end of each step that has one!\n",
    "\n",
    "#### Step 1.1.1: Convert Missing Value Codes to NaNs\n",
    "The fourth column of the feature attributes summary (loaded in above as `feat_info`) documents the codes from the data dictionary that indicate missing or unknown data. While the file encodes this as a list (e.g. `[-1,0]`), this will get read in as a string object. You'll need to do a little bit of parsing to make use of it to identify and clean the data. Convert data that matches a 'missing' or 'unknown' value code into a numpy NaN value. You might want to see how much data takes on a 'missing' or 'unknown' code, and how much data is naturally missing, as a point of interest.\n",
    "\n",
    "**As one more reminder, you are encouraged to add additional cells to break up your analysis into manageable chunks.**"
   ]
  },
  {
   "cell_type": "code",
   "execution_count": 5,
   "metadata": {},
   "outputs": [
    {
     "data": {
      "text/plain": [
       "4896838"
      ]
     },
     "execution_count": 5,
     "metadata": {},
     "output_type": "execute_result"
    }
   ],
   "source": [
    "#number of missing values before conversion\n",
    "\n",
    "azdias2.isnull().sum().sum()"
   ]
  },
  {
   "cell_type": "code",
   "execution_count": 6,
   "metadata": {},
   "outputs": [
    {
     "data": {
      "text/plain": [
       "AGER_TYP                      0\n",
       "ALTERSKATEGORIE_GROB          0\n",
       "ANREDE_KZ                     0\n",
       "CJT_GESAMTTYP              4854\n",
       "FINANZ_MINIMALIST             0\n",
       "FINANZ_SPARER                 0\n",
       "FINANZ_VORSORGER              0\n",
       "FINANZ_ANLEGER                0\n",
       "FINANZ_UNAUFFAELLIGER         0\n",
       "FINANZ_HAUSBAUER              0\n",
       "FINANZTYP                     0\n",
       "GEBURTSJAHR                   0\n",
       "GFK_URLAUBERTYP            4854\n",
       "GREEN_AVANTGARDE              0\n",
       "HEALTH_TYP                    0\n",
       "LP_LEBENSPHASE_FEIN        4854\n",
       "LP_LEBENSPHASE_GROB        4854\n",
       "LP_FAMILIE_FEIN            4854\n",
       "LP_FAMILIE_GROB            4854\n",
       "LP_STATUS_FEIN             4854\n",
       "LP_STATUS_GROB             4854\n",
       "NATIONALITAET_KZ              0\n",
       "PRAEGENDE_JUGENDJAHRE         0\n",
       "RETOURTYP_BK_S             4854\n",
       "SEMIO_SOZ                     0\n",
       "SEMIO_FAM                     0\n",
       "SEMIO_REL                     0\n",
       "SEMIO_MAT                     0\n",
       "SEMIO_VERT                    0\n",
       "SEMIO_LUST                    0\n",
       "                          ...  \n",
       "OST_WEST_KZ               93148\n",
       "WOHNLAGE                  93148\n",
       "CAMEO_DEUG_2015           98979\n",
       "CAMEO_DEU_2015            98979\n",
       "CAMEO_INTL_2015           98979\n",
       "KBA05_ANTG1              133324\n",
       "KBA05_ANTG2              133324\n",
       "KBA05_ANTG3              133324\n",
       "KBA05_ANTG4              133324\n",
       "KBA05_BAUMAX             133324\n",
       "KBA05_GBZ                133324\n",
       "BALLRAUM                  93740\n",
       "EWDICHTE                  93740\n",
       "INNENSTADT                93740\n",
       "GEBAEUDETYP_RASTER        93155\n",
       "KKK                      121196\n",
       "MOBI_REGIO               133324\n",
       "ONLINE_AFFINITAET          4854\n",
       "REGIOTYP                 121196\n",
       "KBA13_ANZAHL_PKW         105800\n",
       "PLZ8_ANTG1               116515\n",
       "PLZ8_ANTG2               116515\n",
       "PLZ8_ANTG3               116515\n",
       "PLZ8_ANTG4               116515\n",
       "PLZ8_BAUMAX              116515\n",
       "PLZ8_HHZ                 116515\n",
       "PLZ8_GBZ                 116515\n",
       "ARBEIT                    97216\n",
       "ORTSGR_KLS9               97216\n",
       "RELAT_AB                  97216\n",
       "Length: 85, dtype: int64"
      ]
     },
     "execution_count": 6,
     "metadata": {},
     "output_type": "execute_result"
    }
   ],
   "source": [
    "#number of missing values of each columns\n",
    "azdias2.isnull().sum()"
   ]
  },
  {
   "cell_type": "code",
   "execution_count": 7,
   "metadata": {},
   "outputs": [],
   "source": [
    "#converting the unknown or missing values in each column to nan\n",
    "for value in range(len(feat_info)):\n",
    "    missing_or_unknown = feat_info.iloc[value]['missing_or_unknown']\n",
    "    missing_or_unknown = missing_or_unknown.strip('[')\n",
    "    missing_or_unknown = missing_or_unknown.strip(']')\n",
    "    missing_or_unknown = missing_or_unknown.split(sep=\",\")\n",
    "    inner_values = []\n",
    "    for inner in missing_or_unknown:\n",
    "        if(inner != 'X' and inner != 'XX' and inner != ''):\n",
    "            inner = int(inner)\n",
    "        else:\n",
    "            inner = inner\n",
    "        inner_values.append(inner)\n",
    "    missing_or_unknown = inner_values\n",
    "    if missing_or_unknown != ['']:\n",
    "        azdias2.replace({feat_info.iloc[value]['attribute'] : missing_or_unknown}, np.nan, inplace=True)\n",
    "    "
   ]
  },
  {
   "cell_type": "code",
   "execution_count": 8,
   "metadata": {},
   "outputs": [
    {
     "data": {
      "text/plain": [
       "8373929"
      ]
     },
     "execution_count": 8,
     "metadata": {},
     "output_type": "execute_result"
    }
   ],
   "source": [
    "#number of missing values after conversion\n",
    "\n",
    "azdias2.isnull().sum().sum()"
   ]
  },
  {
   "cell_type": "markdown",
   "metadata": {},
   "source": [
    "#### Step 1.1.2: Assess Missing Data in Each Column\n",
    "\n",
    "How much missing data is present in each column? There are a few columns that are outliers in terms of the proportion of values that are missing. You will want to use matplotlib's [`hist()`](https://matplotlib.org/api/_as_gen/matplotlib.pyplot.hist.html) function to visualize the distribution of missing value counts to find these columns. Identify and document these columns. While some of these columns might have justifications for keeping or re-encoding the data, for this project you should just remove them from the dataframe. (Feel free to make remarks about these outlier columns in the discussion, however!)\n",
    "\n",
    "For the remaining features, are there any patterns in which columns have, or share, missing data?"
   ]
  },
  {
   "cell_type": "code",
   "execution_count": 9,
   "metadata": {},
   "outputs": [
    {
     "data": {
      "text/plain": [
       "AGER_TYP                 685843\n",
       "ALTERSKATEGORIE_GROB       2881\n",
       "ANREDE_KZ                     0\n",
       "CJT_GESAMTTYP              4854\n",
       "FINANZ_MINIMALIST             0\n",
       "FINANZ_SPARER                 0\n",
       "FINANZ_VORSORGER              0\n",
       "FINANZ_ANLEGER                0\n",
       "FINANZ_UNAUFFAELLIGER         0\n",
       "FINANZ_HAUSBAUER              0\n",
       "FINANZTYP                     0\n",
       "GEBURTSJAHR              392318\n",
       "GFK_URLAUBERTYP            4854\n",
       "GREEN_AVANTGARDE              0\n",
       "HEALTH_TYP               111196\n",
       "LP_LEBENSPHASE_FEIN       97632\n",
       "LP_LEBENSPHASE_GROB       94572\n",
       "LP_FAMILIE_FEIN           77792\n",
       "LP_FAMILIE_GROB           77792\n",
       "LP_STATUS_FEIN             4854\n",
       "LP_STATUS_GROB             4854\n",
       "NATIONALITAET_KZ         108315\n",
       "PRAEGENDE_JUGENDJAHRE    108164\n",
       "RETOURTYP_BK_S             4854\n",
       "SEMIO_SOZ                     0\n",
       "SEMIO_FAM                     0\n",
       "SEMIO_REL                     0\n",
       "SEMIO_MAT                     0\n",
       "SEMIO_VERT                    0\n",
       "SEMIO_LUST                    0\n",
       "                          ...  \n",
       "OST_WEST_KZ               93148\n",
       "WOHNLAGE                  93148\n",
       "CAMEO_DEUG_2015           99352\n",
       "CAMEO_DEU_2015            99352\n",
       "CAMEO_INTL_2015           99352\n",
       "KBA05_ANTG1              133324\n",
       "KBA05_ANTG2              133324\n",
       "KBA05_ANTG3              133324\n",
       "KBA05_ANTG4              133324\n",
       "KBA05_BAUMAX             476524\n",
       "KBA05_GBZ                133324\n",
       "BALLRAUM                  93740\n",
       "EWDICHTE                  93740\n",
       "INNENSTADT                93740\n",
       "GEBAEUDETYP_RASTER        93155\n",
       "KKK                      158064\n",
       "MOBI_REGIO               133324\n",
       "ONLINE_AFFINITAET          4854\n",
       "REGIOTYP                 158064\n",
       "KBA13_ANZAHL_PKW         105800\n",
       "PLZ8_ANTG1               116515\n",
       "PLZ8_ANTG2               116515\n",
       "PLZ8_ANTG3               116515\n",
       "PLZ8_ANTG4               116515\n",
       "PLZ8_BAUMAX              116515\n",
       "PLZ8_HHZ                 116515\n",
       "PLZ8_GBZ                 116515\n",
       "ARBEIT                    97375\n",
       "ORTSGR_KLS9               97274\n",
       "RELAT_AB                  97375\n",
       "Length: 85, dtype: int64"
      ]
     },
     "execution_count": 9,
     "metadata": {},
     "output_type": "execute_result"
    }
   ],
   "source": [
    "# Perform an assessment of how much missing data there is in each column of the\n",
    "# dataset.\n",
    "azdias2.isnull().sum()\n"
   ]
  },
  {
   "cell_type": "code",
   "execution_count": 10,
   "metadata": {},
   "outputs": [
    {
     "data": {
      "text/plain": [
       "<Container object of 85 artists>"
      ]
     },
     "execution_count": 10,
     "metadata": {},
     "output_type": "execute_result"
    },
    {
     "data": {
      "image/png": "[encoded data removed]",
      "text/plain": [
       "<matplotlib.figure.Figure at 0x7fb2bb194dd8>"
      ]
     },
     "metadata": {
      "needs_background": "light"
     },
     "output_type": "display_data"
    }
   ],
   "source": [
    "# Investigate patterns in the amount of missing data in each column.\n",
    "y = azdias2.isnull().sum(axis=0).values #missing value in each column\n",
    "x = feat_info.index #name of the column\n",
    "plt.xlabel(\"features\")\n",
    "plt.ylabel(\"total missing values\")\n",
    "plt.bar(x, y)\n"
   ]
  },
  {
   "cell_type": "code",
   "execution_count": 11,
   "metadata": {},
   "outputs": [
    {
     "data": {
      "text/plain": [
       "(array([ 39.,  40.,   0.,   1.,   1.,   1.,   1.,   1.,   0.,   1.]),\n",
       " array([  0.        ,   9.97576359,  19.95152717,  29.92729076,\n",
       "         39.90305435,  49.87881794,  59.85458152,  69.83034511,\n",
       "         79.8061087 ,  89.78187229,  99.75763587]),\n",
       " <a list of 10 Patch objects>)"
      ]
     },
     "execution_count": 11,
     "metadata": {},
     "output_type": "execute_result"
    },
    {
     "data": {
      "image/png": "[encoded data removed]",
      "text/plain": [
       "<matplotlib.figure.Figure at 0x7fb2bb0ddda0>"
      ]
     },
     "metadata": {
      "needs_background": "light"
     },
     "output_type": "display_data"
    }
   ],
   "source": [
    "# Remove the outlier columns from the dataset. (You'll perform other data\n",
    "# engineering tasks such as re-encoding and imputation later.)\n",
    "missing_data_percent_cols = y/azdias2.shape[0]*100 #percent of data missing in each column\n",
    "plt.hist(missing_data_percent_cols)"
   ]
  },
  {
   "cell_type": "code",
   "execution_count": 12,
   "metadata": {},
   "outputs": [],
   "source": [
    "feaure_names = azdias2.columns\n",
    "high_missing_data_cols = []\n",
    "high_missing_data_values = []\n",
    "zero_missing_data_cols = []\n",
    "\n",
    "for i in range(len(missing_data_percent_cols)):\n",
    "    if (missing_data_percent_cols[i] > 30.0):\n",
    "        high_missing_data_cols.append(feaure_names[i])\n",
    "        high_missing_data_values.append(missing_data_percent_cols[i])\n",
    "    elif(missing_data_percent_cols[i] == 0):\n",
    "        zero_missing_data_cols.append(feaure_names[i])"
   ]
  },
  {
   "cell_type": "code",
   "execution_count": 13,
   "metadata": {},
   "outputs": [
    {
     "name": "stdout",
     "output_type": "stream",
     "text": [
      "zero missing value columns:  ['ANREDE_KZ', 'FINANZ_MINIMALIST', 'FINANZ_SPARER', 'FINANZ_VORSORGER', 'FINANZ_ANLEGER', 'FINANZ_UNAUFFAELLIGER', 'FINANZ_HAUSBAUER', 'FINANZTYP', 'GREEN_AVANTGARDE', 'SEMIO_SOZ', 'SEMIO_FAM', 'SEMIO_REL', 'SEMIO_MAT', 'SEMIO_VERT', 'SEMIO_LUST', 'SEMIO_ERL', 'SEMIO_KULT', 'SEMIO_RAT', 'SEMIO_KRIT', 'SEMIO_DOM', 'SEMIO_KAEM', 'SEMIO_PFLICHT', 'SEMIO_TRADV', 'ZABEOTYP']\n",
      "==================\n",
      "high missing value columns:  ['AGER_TYP', 'GEBURTSJAHR', 'TITEL_KZ', 'ALTER_HH', 'KK_KUNDENTYP', 'KBA05_BAUMAX']\n",
      "==================\n",
      "[76.955435296071343, 44.02028228688507, 99.757635872583791, 34.813699407890972, 65.596748730112949, 53.468668265222654]\n",
      "This columns have highest missing or unknown value.\n"
     ]
    }
   ],
   "source": [
    "print(\"zero missing value columns: \", zero_missing_data_cols)\n",
    "print(\"==================\")\n",
    "print(\"high missing value columns: \", high_missing_data_cols)\n",
    "print(\"==================\")\n",
    "print(high_missing_data_values)\n",
    "\n",
    "\n",
    "print(\"This columns have highest missing or unknown value.\") \n",
    "\n"
   ]
  },
  {
   "cell_type": "markdown",
   "metadata": {},
   "source": [
    "#### Discussion 1.1.2: Assess Missing Data in Each Column\n",
    "columns which have 30% more missing or unknown values columns discard from the evaluation process \n",
    "discarded columns = 'AGER_TYP', 'GEBURTSJAHR', 'TITEL_KZ', 'ALTER_HH', 'KK_KUNDENTYP', 'KBA05_BAUMAX'"
   ]
  },
  {
   "cell_type": "markdown",
   "metadata": {},
   "source": [
    "#### Step 1.1.3: Assess Missing Data in Each Row\n",
    "\n",
    "Now, you'll perform a similar assessment for the rows of the dataset. How much data is missing in each row? As with the columns, you should see some groups of points that have a very different numbers of missing values. Divide the data into two subsets: one for data points that are above some threshold for missing values, and a second subset for points below that threshold.\n",
    "\n",
    "In order to know what to do with the outlier rows, we should see if the distribution of data values on columns that are not missing data (or are missing very little data) are similar or different between the two groups. Select at least five of these columns and compare the distribution of values.\n",
    "- You can use seaborn's [`countplot()`](https://seaborn.pydata.org/generated/seaborn.countplot.html) function to create a bar chart of code frequencies and matplotlib's [`subplot()`](https://matplotlib.org/api/_as_gen/matplotlib.pyplot.subplot.html) function to put bar charts for the two subplots side by side.\n",
    "- To reduce repeated code, you might want to write a function that can perform this comparison, taking as one of its arguments a column to be compared.\n",
    "\n",
    "Depending on what you observe in your comparison, this will have implications on how you approach your conclusions later in the analysis. If the distributions of non-missing features look similar between the data with many missing values and the data with few or no missing values, then we could argue that simply dropping those points from the analysis won't present a major issue. On the other hand, if the data with many missing values looks very different from the data with few or no missing values, then we should make a note on those data as special. We'll revisit these data later on. **Either way, you should continue your analysis for now using just the subset of the data with few or no missing values.**"
   ]
  },
  {
   "cell_type": "code",
   "execution_count": 14,
   "metadata": {},
   "outputs": [
    {
     "data": {
      "text/plain": [
       "0         49\n",
       "1          4\n",
       "2          4\n",
       "3          9\n",
       "4          3\n",
       "5          2\n",
       "6          5\n",
       "7          4\n",
       "8          4\n",
       "9          3\n",
       "10         3\n",
       "11        53\n",
       "12        10\n",
       "13        11\n",
       "14        53\n",
       "15        11\n",
       "16         9\n",
       "17        53\n",
       "18         9\n",
       "19         5\n",
       "20        16\n",
       "21         6\n",
       "22         6\n",
       "23        11\n",
       "24        53\n",
       "25         9\n",
       "26        24\n",
       "27         5\n",
       "28         4\n",
       "29         4\n",
       "          ..\n",
       "891191     1\n",
       "891192     4\n",
       "891193     2\n",
       "891194     2\n",
       "891195     2\n",
       "891196     2\n",
       "891197     2\n",
       "891198     4\n",
       "891199     5\n",
       "891200     5\n",
       "891201     3\n",
       "891202     5\n",
       "891203    20\n",
       "891204     2\n",
       "891205     3\n",
       "891206     3\n",
       "891207     2\n",
       "891208     6\n",
       "891209     5\n",
       "891210     4\n",
       "891211     4\n",
       "891212     4\n",
       "891213     3\n",
       "891214     4\n",
       "891215     5\n",
       "891216     6\n",
       "891217     7\n",
       "891218     9\n",
       "891219     5\n",
       "891220     6\n",
       "Length: 891221, dtype: int64"
      ]
     },
     "execution_count": 14,
     "metadata": {},
     "output_type": "execute_result"
    }
   ],
   "source": [
    "# How much data is missing in each row of the dataset?\n",
    "\n",
    "azdias2.isnull().sum(axis=1)"
   ]
  },
  {
   "cell_type": "code",
   "execution_count": 15,
   "metadata": {},
   "outputs": [
    {
     "name": "stdout",
     "output_type": "stream",
     "text": [
      "no of rows have high missing or unknown values: 99325\n"
     ]
    }
   ],
   "source": [
    "# Write code to divide the data into two subsets based on the number of missing\n",
    "nan_raw = azdias2.isnull().sum(axis=1)\n",
    "nan_raw = pd.DataFrame(nan_raw)\n",
    "nan_raw.columns = ['nan_counts']\n",
    "subset_1 = azdias2.iloc[nan_raw[nan_raw['nan_counts']>=20].index.tolist()]\n",
    "subset_2 = azdias2.iloc[nan_raw[nan_raw['nan_counts']<20].index.tolist()]\n",
    "\n",
    "subset_1_rows = subset_1.index.tolist()\n",
    "print(\"no of rows have high missing or unknown values:\", len(subset_1_rows))"
   ]
  },
  {
   "cell_type": "code",
   "execution_count": 16,
   "metadata": {},
   "outputs": [
    {
     "name": "stdout",
     "output_type": "stream",
     "text": [
      "COMPARISON OF DATA DISTRIBUTION IN HIGH MISSING ROWS AND FEW OR NO MISSING ROWS OF ZERO MISSING COLUMNS\n",
      "========================\n",
      "We compares only first six columns here\n",
      "zero missing columns for comparison: ['ANREDE_KZ', 'FINANZ_MINIMALIST', 'FINANZ_SPARER', 'FINANZ_VORSORGER', 'FINANZ_ANLEGER', 'FINANZ_UNAUFFAELLIGER']\n"
     ]
    },
    {
     "data": {
      "image/png": "[encoded data removed]",
      "text/plain": [
       "<matplotlib.figure.Figure at 0x7fb2b8feba20>"
      ]
     },
     "metadata": {
      "needs_background": "light"
     },
     "output_type": "display_data"
    },
    {
     "data": {
      "image/png": "[encoded data removed]",
      "text/plain": [
       "<matplotlib.figure.Figure at 0x7fb2b8c6d390>"
      ]
     },
     "metadata": {
      "needs_background": "light"
     },
     "output_type": "display_data"
    },
    {
     "data": {
      "image/png": "[encoded data removed]",
      "text/plain": [
       "<matplotlib.figure.Figure at 0x7fb2b8bcc080>"
      ]
     },
     "metadata": {
      "needs_background": "light"
     },
     "output_type": "display_data"
    },
    {
     "data": {
      "image/png": "[encoded data removed]",
      "text/plain": [
       "<matplotlib.figure.Figure at 0x7fb2b8b58668>"
      ]
     },
     "metadata": {
      "needs_background": "light"
     },
     "output_type": "display_data"
    },
    {
     "data": {
      "image/png": "[encoded data removed]",
      "text/plain": [
       "<matplotlib.figure.Figure at 0x7fb2b8a4b5c0>"
      ]
     },
     "metadata": {
      "needs_background": "light"
     },
     "output_type": "display_data"
    },
    {
     "data": {
      "image/png": "[encoded data removed]",
      "text/plain": [
       "<matplotlib.figure.Figure at 0x7fb2b8a035f8>"
      ]
     },
     "metadata": {
      "needs_background": "light"
     },
     "output_type": "display_data"
    }
   ],
   "source": [
    "# values in each rows\n",
    "print(\"COMPARISON OF DATA DISTRIBUTION IN HIGH MISSING ROWS AND FEW OR NO MISSING ROWS OF ZERO MISSING COLUMNS\")\n",
    "print(\"========================\")\n",
    "print(\"We compares only first six columns here\")\n",
    "\n",
    "\n",
    "\n",
    "print(\"zero missing columns for comparison:\", zero_missing_data_cols[:6])\n",
    "\n",
    "for col_name in zero_missing_data_cols[:6]:\n",
    "    fig, ax = plt.subplots(1, 2, figsize=(12, 4))\n",
    "    ax[0].set_title(\"High missing rows\")\n",
    "    sns.countplot(subset_1[col_name], ax=ax[0])\n",
    "    ax[1].set_title(\"few or no missing rows\")\n",
    "    sns.countplot(subset_2[col_name], ax=ax[1])\n",
    "\n"
   ]
  },
  {
   "cell_type": "code",
   "execution_count": 17,
   "metadata": {},
   "outputs": [
    {
     "name": "stdout",
     "output_type": "stream",
     "text": [
      "high missinng or unknown values of the columns and count of missing values\n",
      "AGER_TYP        685843\n",
      "GEBURTSJAHR     392318\n",
      "TITEL_KZ        889061\n",
      "ALTER_HH        310267\n",
      "KK_KUNDENTYP    584612\n",
      "KBA05_BAUMAX    476524\n",
      "dtype: int64\n"
     ]
    }
   ],
   "source": [
    "print(\"high missinng or unknown values of the columns and count of missing values\")\n",
    "print(azdias2[high_missing_data_cols].isnull().sum())"
   ]
  },
  {
   "cell_type": "code",
   "execution_count": 18,
   "metadata": {},
   "outputs": [
    {
     "data": {
      "image/png": "[encoded data removed]",
      "text/plain": [
       "<matplotlib.figure.Figure at 0x7fb2b8849cf8>"
      ]
     },
     "metadata": {
      "needs_background": "light"
     },
     "output_type": "display_data"
    }
   ],
   "source": [
    "#distribution of high missing values in the columns\n",
    "\n",
    "plt.bar(high_missing_data_cols, high_missing_data_values)\n",
    "plt.title(\"percentage of missing data in the feature columns\")\n",
    "for i in range(len(high_missing_data_values)):\n",
    "    plt.annotate(str(high_missing_data_values[i]), xy = (high_missing_data_cols[i], high_missing_data_values[i]) )\n",
    "plt.show()"
   ]
  },
  {
   "cell_type": "markdown",
   "metadata": {},
   "source": [
    "\n",
    " 1. dropping columns which has high percentage of missing or unknown data = high_missing_data_cols\n",
    " \n",
    " 2. dropping rows which has high missing or unknown values = subset_1\n"
   ]
  },
  {
   "cell_type": "code",
   "execution_count": 19,
   "metadata": {},
   "outputs": [
    {
     "name": "stdout",
     "output_type": "stream",
     "text": [
      "(791896, 79)\n",
      "number of columns after dropping columns which have high missing values:  79\n",
      "number of rows after dropping subset_1 which have high missing or unknown values:  791896\n"
     ]
    }
   ],
   "source": [
    "# Compare the distribution of values for at least five columns where there are\n",
    "# no or few missing values, between the two subsets.\n",
    "azdias3 = azdias2.drop(high_missing_data_cols, axis=1)\n",
    "#azdias3 = azdias3.drop()\n",
    "azdias3 = azdias3.drop(subset_1.index)\n",
    "print(azdias3.shape)\n",
    "print(\"number of columns after dropping columns which have high missing values: \", azdias3.shape[1])\n",
    "print(\"number of rows after dropping subset_1 which have high missing or unknown values: \", azdias3.shape[0])"
   ]
  },
  {
   "cell_type": "code",
   "execution_count": 20,
   "metadata": {},
   "outputs": [],
   "source": [
    "#feature data after removing the columns\n",
    "feat_info_new = feat_info[feat_info['attribute'].isin(azdias3.columns)]"
   ]
  },
  {
   "cell_type": "markdown",
   "metadata": {},
   "source": [
    "#### Discussion 1.1.3: Assess Missing Data in Each Row\n",
    "\n",
    "removes rows which has more than 20 'unknown or missing' numbers from the dataframe.\n",
    "from comparison its clear that removal of rows not makes much difference  data in dataframes"
   ]
  },
  {
   "cell_type": "markdown",
   "metadata": {},
   "source": [
    "### Step 1.2: Select and Re-Encode Features\n",
    "\n",
    "Checking for missing data isn't the only way in which you can prepare a dataset for analysis. Since the unsupervised learning techniques to be used will only work on data that is encoded numerically, you need to make a few encoding changes or additional assumptions to be able to make progress. In addition, while almost all of the values in the dataset are encoded using numbers, not all of them represent numeric values. Check the third column of the feature summary (`feat_info`) for a summary of types of measurement.\n",
    "- For numeric and interval data, these features can be kept without changes.\n",
    "- Most of the variables in the dataset are ordinal in nature. While ordinal values may technically be non-linear in spacing, make the simplifying assumption that the ordinal variables can be treated as being interval in nature (that is, kept without any changes).\n",
    "- Special handling may be necessary for the remaining two variable types: categorical, and 'mixed'.\n",
    "\n",
    "In the first two parts of this sub-step, you will perform an investigation of the categorical and mixed-type features and make a decision on each of them, whether you will keep, drop, or re-encode each. Then, in the last part, you will create a new data frame with only the selected and engineered columns.\n",
    "\n",
    "Data wrangling is often the trickiest part of the data analysis process, and there's a lot of it to be done here. But stick with it: once you're done with this step, you'll be ready to get to the machine learning parts of the project!"
   ]
  },
  {
   "cell_type": "code",
   "execution_count": 21,
   "metadata": {},
   "outputs": [
    {
     "data": {
      "text/plain": [
       "ordinal        49\n",
       "categorical    18\n",
       "mixed           6\n",
       "numeric         6\n",
       "Name: type, dtype: int64"
      ]
     },
     "execution_count": 21,
     "metadata": {},
     "output_type": "execute_result"
    }
   ],
   "source": [
    "# How many features are there of each data type?\n",
    "feat_info_new['type'].value_counts()"
   ]
  },
  {
   "cell_type": "markdown",
   "metadata": {},
   "source": [
    "#### Step 1.2.1: Re-Encode Categorical Features\n",
    "\n",
    "For categorical data, you would ordinarily need to encode the levels as dummy variables. Depending on the number of categories, perform one of the following:\n",
    "- For binary (two-level) categoricals that take numeric values, you can keep them without needing to do anything.\n",
    "- There is one binary variable that takes on non-numeric values. For this one, you need to re-encode the values as numbers or create a dummy variable.\n",
    "- For multi-level categoricals (three or more values), you can choose to encode the values using multiple dummy variables (e.g. via [OneHotEncoder](http://scikit-learn.org/stable/modules/generated/sklearn.preprocessing.OneHotEncoder.html)), or (to keep things straightforward) just drop them from the analysis. As always, document your choices in the Discussion section."
   ]
  },
  {
   "cell_type": "code",
   "execution_count": 22,
   "metadata": {},
   "outputs": [
    {
     "name": "stdout",
     "output_type": "stream",
     "text": [
      "binary categories: ['ANREDE_KZ', 'GREEN_AVANTGARDE', 'SOHO_KZ', 'VERS_TYP', 'OST_WEST_KZ']\n"
     ]
    }
   ],
   "source": [
    "# Assess categorical variables: which are binary, which are multi-level, and\n",
    "# which one needs to be re-encoded?\n",
    "\n",
    "#categorical features\n",
    "feature_cat = feat_info_new[feat_info_new['type']== 'categorical']\n",
    "\n",
    "binary_cat_cols = []\n",
    "multi_cat_cols = []\n",
    "for x in azdias3[feature_cat.attribute]:\n",
    "    #print(len(feature_cat.attribute))\n",
    "    len_cols = azdias3[x].unique()\n",
    "    len_cols = [x for x in len_cols if str(x) != 'nan']\n",
    "    if(len(len_cols) == 2):\n",
    "        binary_cat_cols.append(x)\n",
    "    else:\n",
    "        multi_cat_cols.append(x)\n",
    "\n",
    "print(\"binary categories:\", binary_cat_cols)"
   ]
  },
  {
   "cell_type": "code",
   "execution_count": 23,
   "metadata": {},
   "outputs": [],
   "source": [
    "# Re-encode categorical variable(s) to be kept in the analysis.\n",
    "new_values = {'W':0, 'O':1 }\n",
    "\n",
    "\n",
    "azdias3 = azdias3.replace({'OST_WEST_KZ':new_values})\n"
   ]
  },
  {
   "cell_type": "code",
   "execution_count": 24,
   "metadata": {},
   "outputs": [
    {
     "data": {
      "text/plain": [
       "(791896, 66)"
      ]
     },
     "execution_count": 24,
     "metadata": {},
     "output_type": "execute_result"
    }
   ],
   "source": [
    "azdias4 = azdias3.drop(multi_cat_cols, axis=1)\n",
    "azdias4.shape"
   ]
  },
  {
   "cell_type": "code",
   "execution_count": 25,
   "metadata": {},
   "outputs": [
    {
     "name": "stdout",
     "output_type": "stream",
     "text": [
      "no of columns after keeping and encoding the binary columns: 66\n"
     ]
    }
   ],
   "source": [
    "print(\"no of columns after keeping and encoding the binary columns:\", azdias4.shape[1])"
   ]
  },
  {
   "cell_type": "markdown",
   "metadata": {},
   "source": [
    "#### Discussion 1.2.1: Re-Encode Categorical Features\n",
    "\n",
    "only binary categories retaines other multilevel categories drops from evaluation\n",
    "out of this binary categories 'OST_WEST_KZ' have non-numeric values 'w' and 'o' so  need to convert these values to numbers for doing evaluation process. so replacing these values with '0' and '1'"
   ]
  },
  {
   "cell_type": "markdown",
   "metadata": {},
   "source": [
    "#### Step 1.2.2: Engineer Mixed-Type Features\n",
    "\n",
    "There are a handful of features that are marked as \"mixed\" in the feature summary that require special treatment in order to be included in the analysis. There are two in particular that deserve attention; the handling of the rest are up to your own choices:\n",
    "- \"PRAEGENDE_JUGENDJAHRE\" combines information on three dimensions: generation by decade, movement (mainstream vs. avantgarde), and nation (east vs. west). While there aren't enough levels to disentangle east from west, you should create two new variables to capture the other two dimensions: an interval-type variable for decade, and a binary variable for movement.\n",
    "- \"CAMEO_INTL_2015\" combines information on two axes: wealth and life stage. Break up the two-digit codes by their 'tens'-place and 'ones'-place digits into two new ordinal variables (which, for the purposes of this project, is equivalent to just treating them as their raw numeric values).\n",
    "- If you decide to keep or engineer new features around the other mixed-type features, make sure you note your steps in the Discussion section.\n",
    "\n",
    "Be sure to check `Data_Dictionary.md` for the details needed to finish these tasks."
   ]
  },
  {
   "cell_type": "code",
   "execution_count": 26,
   "metadata": {},
   "outputs": [],
   "source": [
    "# Investigate \"PRAEGENDE_JUGENDJAHRE\" and engineer two new variables.\n",
    "feature_mix = feat_info_new[feat_info_new['type'] == 'mixed'].attribute #mixed category features\n",
    "\n",
    "#PRAEGENDE_JUGENDJAHRE feature is a combination of decade and movement\n",
    "\n",
    "azdias4 =pd.concat([azdias4, azdias4[\"PRAEGENDE_JUGENDJAHRE\"].rename('DECADE')], axis=1)\n",
    "azdias4 =pd.concat([azdias4, azdias4[\"PRAEGENDE_JUGENDJAHRE\"].rename('MOVEMENT')], axis=1)\n",
    "\n",
    "#\"CAMEO_INTL_2015\" feature is a combination of wealth and life stage\n",
    "azdias4 =pd.concat([azdias4, azdias4[\"CAMEO_INTL_2015\"].rename('WEALTH')], axis=1)\n",
    "azdias4 =pd.concat([azdias4, azdias4[\"CAMEO_INTL_2015\"].rename('LIFE_STAGE')], axis=1)\n",
    "\n",
    "decade_values = {1:1, 2:1, 3:2, 4:2, 5:3, 6:3, 7:3, 8:4, 9:4, 10:5, 11:5, 12:5, 13:5, 14:6, 15:6}\n",
    "movement_values = {1:1, 2:2, 3:1, 4:2, 5:1, 6:2, 7:2, 8:1, 9:2, 10:1, 11:2, 12:1, 13:2, 14:1, 15:2}\n",
    "\n",
    "#replacing with new values\n",
    "azdias4['DECADE'].replace(decade_values, inplace=True)\n",
    "azdias4['MOVEMENT'].replace(movement_values, inplace=True)\n"
   ]
  },
  {
   "cell_type": "code",
   "execution_count": 27,
   "metadata": {},
   "outputs": [],
   "source": [
    "# Investigate \"CAMEO_INTL_2015\" and engineer two new variables.\n",
    "wealth_values = {'11':1, '12':1, '13':1, '14':1, '15':1, \n",
    "                 '21':2, '22':2, '23':2, '24':2, '25':2, \n",
    "                 '31':3, '32':3, '33':3, '34':3, '35':3, \n",
    "                 '41':4, '42':4, '43':4, '44':4, '45':4, \n",
    "                 '51':5, '52':5, '53':5, '54':5, '55':5 }\n",
    "life_stage_values = {'11':1, '12':2, '13':3, '14':4, '15':5, \n",
    "                 '21':1, '22':2, '23':3, '24':4, '25':5, \n",
    "                 '31':1, '32':2, '33':3, '34':4, '35':5, \n",
    "                 '41':1, '42':2, '43':3, '44':4, '45':5, \n",
    "                 '51':1, '52':2, '53':3, '54':4, '55':5 }\n",
    "\n",
    "azdias4['WEALTH'].replace(wealth_values, inplace=True)\n",
    "azdias4['LIFE_STAGE'].replace(life_stage_values, inplace=True)\n"
   ]
  },
  {
   "cell_type": "code",
   "execution_count": 28,
   "metadata": {},
   "outputs": [
    {
     "name": "stdout",
     "output_type": "stream",
     "text": [
      "no of columns:  64\n"
     ]
    }
   ],
   "source": [
    "feature_mix = feat_info_new[feat_info_new['type'] == 'mixed'].attribute\n",
    "\n",
    "azdias5 = azdias4.drop(feature_mix, axis=1)\n",
    "print(\"no of columns: \", azdias5.shape[1])"
   ]
  },
  {
   "cell_type": "code",
   "execution_count": 29,
   "metadata": {},
   "outputs": [
    {
     "name": "stdout",
     "output_type": "stream",
     "text": [
      "(791896, 64)\n"
     ]
    }
   ],
   "source": [
    "print(azdias5.shape)"
   ]
  },
  {
   "cell_type": "markdown",
   "metadata": {},
   "source": [
    "#### Discussion 1.2.2: Engineer Mixed-Type Features\n",
    "\n",
    "columns 'PRAEGENDE_JUGENDJAHRE', 'CAMEO_INTL_2015' is a combination of two features. separtes these 'mixed' features and encodes these values to integer values for evaluation process. all other mixed features drops from the data frame "
   ]
  },
  {
   "cell_type": "markdown",
   "metadata": {},
   "source": [
    "#### Step 1.2.3: Complete Feature Selection\n",
    "\n",
    "In order to finish this step up, you need to make sure that your data frame now only has the columns that you want to keep. To summarize, the dataframe should consist of the following:\n",
    "- All numeric, interval, and ordinal type columns from the original dataset.\n",
    "- Binary categorical features (all numerically-encoded).\n",
    "- Engineered features from other multi-level categorical features and mixed features.\n",
    "\n",
    "Make sure that for any new columns that you have engineered, that you've excluded the original columns from the final dataset. Otherwise, their values will interfere with the analysis later on the project. For example, you should not keep \"PRAEGENDE_JUGENDJAHRE\", since its values won't be useful for the algorithm: only the values derived from it in the engineered features you created should be retained. As a reminder, your data should only be from **the subset with few or no missing values**."
   ]
  },
  {
   "cell_type": "markdown",
   "metadata": {},
   "source": [
    "\n",
    "1. keeps all numeric interval and ordinal type columns\n",
    "2. binary categorical features all included and encode the column 'OST_WEST_KZ' which has non integer values\n",
    "3. removed all multi level category features from the dataframe\n",
    "4. mixed features \"PRAEGENDE_JUGENDJAHRE\" and \"CAMEO_INTL_2015\" separated to different columns. and then drops all mixed type features\n"
   ]
  },
  {
   "cell_type": "markdown",
   "metadata": {},
   "source": [
    "### Step 1.3: Create a Cleaning Function\n",
    "\n",
    "Even though you've finished cleaning up the general population demographics data, it's important to look ahead to the future and realize that you'll need to perform the same cleaning steps on the customer demographics data. In this substep, complete the function below to execute the main feature selection, encoding, and re-engineering steps you performed above. Then, when it comes to looking at the customer data in Step 3, you can just run this function on that DataFrame to get the trimmed dataset in a single step."
   ]
  },
  {
   "cell_type": "code",
   "execution_count": 30,
   "metadata": {},
   "outputs": [],
   "source": [
    "def clean_data(df):\n",
    "    \n",
    "    for value in range(len(feat_info)):\n",
    "        missing_or_unknown = feat_info.iloc[value]['missing_or_unknown']\n",
    "        missing_or_unknown = missing_or_unknown.strip('[')\n",
    "        missing_or_unknown = missing_or_unknown.strip(']')\n",
    "        missing_or_unknown = missing_or_unknown.split(sep=\",\")\n",
    "        inner_values = []\n",
    "        for inner in missing_or_unknown:\n",
    "            if(inner != 'X' and inner != 'XX' and inner != ''):\n",
    "                inner = int(inner)\n",
    "            else:\n",
    "                inner = inner\n",
    "            inner_values.append(inner)\n",
    "        missing_or_unknown = inner_values\n",
    "        if missing_or_unknown != ['']:\n",
    "            df.replace({feat_info.iloc[value]['attribute'] : missing_or_unknown}, np.nan, inplace=True)\n",
    "    print(\"converted unknown or missing numbers to nan\")\n",
    "    \n",
    "    y = df.isnull().sum(axis=0).values\n",
    "    missing_data_percent_cols = y/df.shape[0]*100\n",
    "    feaure_names = df.columns\n",
    "    high_missing_data_cols = []\n",
    "    high_missing_data_values = []\n",
    "    zero_missing_data_cols = []\n",
    "    \n",
    "    #finding the columns to drop\n",
    "    for i in range(len(missing_data_percent_cols)):\n",
    "        if (missing_data_percent_cols[i] > 30.0):\n",
    "            high_missing_data_cols.append(feaure_names[i])\n",
    "            high_missing_data_values.append(missing_data_percent_cols[i])\n",
    "        elif(missing_data_percent_cols[i] == 0):\n",
    "            zero_missing_data_cols.append(feaure_names[i])\n",
    "            \n",
    "    #finding the rows to drop\n",
    "    nan_raw = df.isnull().sum(axis=1)\n",
    "    nan_raw = pd.DataFrame(nan_raw)\n",
    "    nan_raw.columns = ['nan_counts']\n",
    "    subset_1 = df.iloc[nan_raw[nan_raw['nan_counts']>=20].index.tolist()]\n",
    "    subset_2 = df.iloc[nan_raw[nan_raw['nan_counts']<20].index.tolist()]\n",
    "    subset_1_rows = subset_1.index.tolist()\n",
    "    df2 = df.drop(high_missing_data_cols, axis=1)\n",
    "    df2 = df2.drop(subset_1.index)\n",
    "    print(\"drops high missing or unknown columns and rows\")\n",
    "    \n",
    "    \n",
    "    feat_info_new = feat_info[feat_info['attribute'].isin(df2.columns)]\n",
    "    feature_cat = feat_info_new[feat_info_new['type']== 'categorical']\n",
    "    binary_cat_cols = []\n",
    "    multi_cat_cols = []\n",
    "    for x in azdias2[feature_cat.attribute]:\n",
    "    #print(len(feature_cat.attribute))\n",
    "        len_cols = df2[x].unique()\n",
    "        len_cols = [x for x in len_cols if str(x) != 'nan']\n",
    "        if(len(len_cols) == 2):\n",
    "            binary_cat_cols.append(x)\n",
    "        else:\n",
    "            multi_cat_cols.append(x)\n",
    "            \n",
    "    new_values = {'W':0, 'O':1 }\n",
    "    df2 = df2.replace({'OST_WEST_KZ':new_values})\n",
    "    df3 = df2.drop(multi_cat_cols, axis=1)\n",
    "    print(\"only binary category columns included, multilevel columns excluded\")\n",
    "    \n",
    "    \n",
    "    feature_mix = feat_info_new[feat_info_new['type'] == 'mixed'].attribute #mixed category features\n",
    "\n",
    "    #PRAEGENDE_JUGENDJAHRE feature is a combination of decade and movement\n",
    "\n",
    "    df3 =pd.concat([df3, df3[\"PRAEGENDE_JUGENDJAHRE\"].rename('DECADE')], axis=1)\n",
    "    df3 =pd.concat([df3, df3[\"PRAEGENDE_JUGENDJAHRE\"].rename('MOVEMENT')], axis=1)\n",
    "\n",
    "    #\"CAMEO_INTL_2015\" feature is a combination of wealth and life stage\n",
    "    df3 =pd.concat([df3, df3[\"CAMEO_INTL_2015\"].rename('WEALTH')], axis=1)\n",
    "    df3 =pd.concat([df3, df3[\"CAMEO_INTL_2015\"].rename('LIFE_STAGE')], axis=1)\n",
    "\n",
    "    decade_values = {1:1, 2:1, 3:2, 4:2, 5:3, 6:3, 7:3, 8:4, 9:4, 10:5, 11:5, 12:5, 13:5, 14:6, 15:6}\n",
    "    movement_values = {1:1, 2:2, 3:1, 4:2, 5:1, 6:2, 7:2, 8:1, 9:2, 10:1, 11:2, 12:1, 13:2, 14:1, 15:2}\n",
    "\n",
    "    #replacing with new values\n",
    "    df3['DECADE'].replace(decade_values, inplace=True)\n",
    "    df3['MOVEMENT'].replace(movement_values, inplace=True)\n",
    "    \n",
    "    wealth_values = {'11':1, '12':1, '13':1, '14':1, '15':1, \n",
    "                 '21':2, '22':2, '23':2, '24':2, '25':2, \n",
    "                 '31':3, '32':3, '33':3, '34':3, '35':3, \n",
    "                 '41':4, '42':4, '43':4, '44':4, '45':4, \n",
    "                 '51':5, '52':5, '53':5, '54':5, '55':5 }\n",
    "    life_stage_values = {'11':1, '12':2, '13':3, '14':4, '15':5, \n",
    "                 '21':1, '22':2, '23':3, '24':4, '25':5, \n",
    "                 '31':1, '32':2, '33':3, '34':4, '35':5, \n",
    "                 '41':1, '42':2, '43':3, '44':4, '45':5, \n",
    "                 '51':1, '52':2, '53':3, '54':4, '55':5 }\n",
    "\n",
    "    df3['WEALTH'].replace(wealth_values, inplace=True)\n",
    "    df3['LIFE_STAGE'].replace(life_stage_values, inplace=True)\n",
    "    \n",
    "    feature_mix = feat_info_new[feat_info_new['type'] == 'mixed'].attribute\n",
    "    print(\"all mixed features removed from the dataframe\")\n",
    "    df4 = df3.drop(feature_mix, axis=1)\n",
    "    print(df4.shape)\n",
    "    \n",
    "    return df4"
   ]
  },
  {
   "cell_type": "code",
   "execution_count": 31,
   "metadata": {},
   "outputs": [
    {
     "name": "stdout",
     "output_type": "stream",
     "text": [
      "converted unknown or missing numbers to nan\n",
      "drops high missing or unknown columns and rows\n",
      "only binary category columns included, multilevel columns excluded\n",
      "all mixed features removed from the dataframe\n",
      "(791896, 64)\n"
     ]
    },
    {
     "data": {
      "text/html": [
       "<div>\n",
       "<style scoped>\n",
       "    .dataframe tbody tr th:only-of-type {\n",
       "        vertical-align: middle;\n",
       "    }\n",
       "\n",
       "    .dataframe tbody tr th {\n",
       "        vertical-align: top;\n",
       "    }\n",
       "\n",
       "    .dataframe thead th {\n",
       "        text-align: right;\n",
       "    }\n",
       "</style>\n",
       "<table border=\"1\" class=\"dataframe\">\n",
       "  <thead>\n",
       "    <tr style=\"text-align: right;\">\n",
       "      <th></th>\n",
       "      <th>ALTERSKATEGORIE_GROB</th>\n",
       "      <th>ANREDE_KZ</th>\n",
       "      <th>FINANZ_MINIMALIST</th>\n",
       "      <th>FINANZ_SPARER</th>\n",
       "      <th>FINANZ_VORSORGER</th>\n",
       "      <th>FINANZ_ANLEGER</th>\n",
       "      <th>FINANZ_UNAUFFAELLIGER</th>\n",
       "      <th>FINANZ_HAUSBAUER</th>\n",
       "      <th>GREEN_AVANTGARDE</th>\n",
       "      <th>HEALTH_TYP</th>\n",
       "      <th>...</th>\n",
       "      <th>PLZ8_ANTG4</th>\n",
       "      <th>PLZ8_HHZ</th>\n",
       "      <th>PLZ8_GBZ</th>\n",
       "      <th>ARBEIT</th>\n",
       "      <th>ORTSGR_KLS9</th>\n",
       "      <th>RELAT_AB</th>\n",
       "      <th>DECADE</th>\n",
       "      <th>MOVEMENT</th>\n",
       "      <th>WEALTH</th>\n",
       "      <th>LIFE_STAGE</th>\n",
       "    </tr>\n",
       "  </thead>\n",
       "  <tbody>\n",
       "    <tr>\n",
       "      <th>1</th>\n",
       "      <td>1.0</td>\n",
       "      <td>2</td>\n",
       "      <td>1</td>\n",
       "      <td>5</td>\n",
       "      <td>2</td>\n",
       "      <td>5</td>\n",
       "      <td>4</td>\n",
       "      <td>5</td>\n",
       "      <td>0</td>\n",
       "      <td>3.0</td>\n",
       "      <td>...</td>\n",
       "      <td>1.0</td>\n",
       "      <td>5.0</td>\n",
       "      <td>4.0</td>\n",
       "      <td>3.0</td>\n",
       "      <td>5.0</td>\n",
       "      <td>4.0</td>\n",
       "      <td>6.0</td>\n",
       "      <td>1.0</td>\n",
       "      <td>5.0</td>\n",
       "      <td>1.0</td>\n",
       "    </tr>\n",
       "    <tr>\n",
       "      <th>2</th>\n",
       "      <td>3.0</td>\n",
       "      <td>2</td>\n",
       "      <td>1</td>\n",
       "      <td>4</td>\n",
       "      <td>1</td>\n",
       "      <td>2</td>\n",
       "      <td>3</td>\n",
       "      <td>5</td>\n",
       "      <td>1</td>\n",
       "      <td>3.0</td>\n",
       "      <td>...</td>\n",
       "      <td>0.0</td>\n",
       "      <td>4.0</td>\n",
       "      <td>4.0</td>\n",
       "      <td>3.0</td>\n",
       "      <td>5.0</td>\n",
       "      <td>2.0</td>\n",
       "      <td>6.0</td>\n",
       "      <td>2.0</td>\n",
       "      <td>2.0</td>\n",
       "      <td>4.0</td>\n",
       "    </tr>\n",
       "  </tbody>\n",
       "</table>\n",
       "<p>2 rows × 64 columns</p>\n",
       "</div>"
      ],
      "text/plain": [
       "   ALTERSKATEGORIE_GROB  ANREDE_KZ  FINANZ_MINIMALIST  FINANZ_SPARER  \\\n",
       "1                   1.0          2                  1              5   \n",
       "2                   3.0          2                  1              4   \n",
       "\n",
       "   FINANZ_VORSORGER  FINANZ_ANLEGER  FINANZ_UNAUFFAELLIGER  FINANZ_HAUSBAUER  \\\n",
       "1                 2               5                      4                 5   \n",
       "2                 1               2                      3                 5   \n",
       "\n",
       "   GREEN_AVANTGARDE  HEALTH_TYP     ...      PLZ8_ANTG4  PLZ8_HHZ  PLZ8_GBZ  \\\n",
       "1                 0         3.0     ...             1.0       5.0       4.0   \n",
       "2                 1         3.0     ...             0.0       4.0       4.0   \n",
       "\n",
       "   ARBEIT  ORTSGR_KLS9  RELAT_AB  DECADE  MOVEMENT  WEALTH  LIFE_STAGE  \n",
       "1     3.0          5.0       4.0     6.0       1.0     5.0         1.0  \n",
       "2     3.0          5.0       2.0     6.0       2.0     2.0         4.0  \n",
       "\n",
       "[2 rows x 64 columns]"
      ]
     },
     "execution_count": 31,
     "metadata": {},
     "output_type": "execute_result"
    }
   ],
   "source": [
    "test = azdias\n",
    "test = clean_data(test)\n",
    "test.head(n=2)"
   ]
  },
  {
   "cell_type": "markdown",
   "metadata": {},
   "source": [
    "## Step 2: Feature Transformation\n",
    "\n",
    "### Step 2.1: Apply Feature Scaling\n",
    "\n",
    "Before we apply dimensionality reduction techniques to the data, we need to perform feature scaling so that the principal component vectors are not influenced by the natural differences in scale for features. Starting from this part of the project, you'll want to keep an eye on the [API reference page for sklearn](http://scikit-learn.org/stable/modules/classes.html) to help you navigate to all of the classes and functions that you'll need. In this substep, you'll need to check the following:\n",
    "\n",
    "- sklearn requires that data not have missing values in order for its estimators to work properly. So, before applying the scaler to your data, make sure that you've cleaned the DataFrame of the remaining missing values. This can be as simple as just removing all data points with missing data, or applying an [Imputer](http://scikit-learn.org/stable/modules/generated/sklearn.preprocessing.Imputer.html) to replace all missing values. You might also try a more complicated procedure where you temporarily remove missing values in order to compute the scaling parameters before re-introducing those missing values and applying imputation. Think about how much missing data you have and what possible effects each approach might have on your analysis, and justify your decision in the discussion section below.\n",
    "- For the actual scaling function, a [StandardScaler](http://scikit-learn.org/stable/modules/generated/sklearn.preprocessing.StandardScaler.html) instance is suggested, scaling each feature to mean 0 and standard deviation 1.\n",
    "- For these classes, you can make use of the `.fit_transform()` method to both fit a procedure to the data as well as apply the transformation to the data at the same time. Don't forget to keep the fit sklearn objects handy, since you'll be applying them to the customer demographics data towards the end of the project."
   ]
  },
  {
   "cell_type": "code",
   "execution_count": 32,
   "metadata": {},
   "outputs": [
    {
     "data": {
      "text/plain": [
       "670646"
      ]
     },
     "execution_count": 32,
     "metadata": {},
     "output_type": "execute_result"
    }
   ],
   "source": [
    "#number of missing values in the dataframe after cleaning\n",
    "azdias5.isnull().sum().sum()"
   ]
  },
  {
   "cell_type": "code",
   "execution_count": 33,
   "metadata": {},
   "outputs": [],
   "source": [
    "# If you've not yet cleaned the dataset of all NaN values, then investigate and\n",
    "# do that now.\n",
    "imp= Imputer(missing_values='NaN', strategy='mean')\n",
    "azdias6 = imp.fit_transform(azdias5)\n",
    "azdias6 = pd.DataFrame(azdias6)"
   ]
  },
  {
   "cell_type": "code",
   "execution_count": 34,
   "metadata": {},
   "outputs": [
    {
     "data": {
      "text/plain": [
       "0"
      ]
     },
     "execution_count": 34,
     "metadata": {},
     "output_type": "execute_result"
    }
   ],
   "source": [
    "#number of missing values after applying Imputer\n",
    "azdias6.isnull().sum().sum()"
   ]
  },
  {
   "cell_type": "code",
   "execution_count": 35,
   "metadata": {},
   "outputs": [],
   "source": [
    "# Apply feature scaling to the general population demographics data.\n",
    "scaler = StandardScaler()\n",
    "azdias6 = scaler.fit_transform(azdias6)\n"
   ]
  },
  {
   "cell_type": "code",
   "execution_count": 36,
   "metadata": {},
   "outputs": [
    {
     "name": "stdout",
     "output_type": "stream",
     "text": [
      "(791896, 64)\n"
     ]
    }
   ],
   "source": [
    "print(azdias6.shape)"
   ]
  },
  {
   "cell_type": "markdown",
   "metadata": {},
   "source": [
    "### Discussion 2.1: Apply Feature Scaling\n",
    "\n",
    "converts all nan values from the dataframe by using Imputer and then transformes the data using standardScaler"
   ]
  },
  {
   "cell_type": "markdown",
   "metadata": {},
   "source": [
    "### Step 2.2: Perform Dimensionality Reduction\n",
    "\n",
    "On your scaled data, you are now ready to apply dimensionality reduction techniques.\n",
    "\n",
    "- Use sklearn's [PCA](http://scikit-learn.org/stable/modules/generated/sklearn.decomposition.PCA.html) class to apply principal component analysis on the data, thus finding the vectors of maximal variance in the data. To start, you should not set any parameters (so all components are computed) or set a number of components that is at least half the number of features (so there's enough features to see the general trend in variability).\n",
    "- Check out the ratio of variance explained by each principal component as well as the cumulative variance explained. Try plotting the cumulative or sequential values using matplotlib's [`plot()`](https://matplotlib.org/api/_as_gen/matplotlib.pyplot.plot.html) function. Based on what you find, select a value for the number of transformed features you'll retain for the clustering part of the project.\n",
    "- Once you've made a choice for the number of components to keep, make sure you re-fit a PCA instance to perform the decided-on transformation."
   ]
  },
  {
   "cell_type": "code",
   "execution_count": 37,
   "metadata": {},
   "outputs": [],
   "source": [
    "# Apply PCA to the data.\n",
    "pca = PCA(n_components=azdias6.shape[1])"
   ]
  },
  {
   "cell_type": "code",
   "execution_count": 38,
   "metadata": {},
   "outputs": [],
   "source": [
    "# Investigate the variance accounted for by each principal component.\n",
    "xpca = pca.fit(azdias6)\n"
   ]
  },
  {
   "cell_type": "code",
   "execution_count": 39,
   "metadata": {},
   "outputs": [],
   "source": [
    "def scree_plot(pca):\n",
    "    '''\n",
    "    Creates a scree plot associated with the principal components \n",
    "    \n",
    "    INPUT: pca - the result of instantian of PCA in scikit learn\n",
    "            \n",
    "    OUTPUT:\n",
    "            None\n",
    "    '''\n",
    "    num_components=len(pca.explained_variance_ratio_)\n",
    "    ind = np.arange(num_components)\n",
    "    vals = pca.explained_variance_ratio_\n",
    " \n",
    "    plt.figure(figsize=(10, 6))\n",
    "    ax = plt.subplot(111)\n",
    "    cumvals = np.cumsum(vals)\n",
    "    ax.bar(ind, vals)\n",
    "    ax.plot(ind, cumvals)\n",
    "    for i in range(num_components):\n",
    "        ax.annotate(r\"%s%%\" % ((str(vals[i]*100)[:4])), (ind[i]+0.2, vals[i]), va=\"bottom\", ha=\"center\", fontsize=12)\n",
    " \n",
    "    ax.xaxis.set_tick_params(width=0)\n",
    "    ax.yaxis.set_tick_params(width=2, length=12)\n",
    " \n",
    "    ax.set_xlabel(\"Principal Component\")\n",
    "    ax.set_ylabel(\"Variance Explained (%)\")\n",
    "    plt.title('Explained Variance Per Principal Component')"
   ]
  },
  {
   "cell_type": "code",
   "execution_count": 40,
   "metadata": {},
   "outputs": [
    {
     "data": {
      "image/png": "[encoded data removed]",
      "text/plain": [
       "<matplotlib.figure.Figure at 0x7fb2b880ee48>"
      ]
     },
     "metadata": {
      "needs_background": "light"
     },
     "output_type": "display_data"
    }
   ],
   "source": [
    "scree_plot(pca)"
   ]
  },
  {
   "cell_type": "code",
   "execution_count": 41,
   "metadata": {},
   "outputs": [],
   "source": [
    "# Re-apply PCA to the data while selecting for number of components to retain.\n",
    "from sklearn.decomposition import PCA\n",
    "pca_30 = PCA(n_components=30)\n",
    "xpca_30 = pca_30.fit_transform(azdias6)\n"
   ]
  },
  {
   "cell_type": "code",
   "execution_count": 42,
   "metadata": {},
   "outputs": [],
   "source": [
    "weights = pd.DataFrame(pca_30.components_[0])\n",
    "weights.index = azdias5.columns"
   ]
  },
  {
   "cell_type": "code",
   "execution_count": 43,
   "metadata": {},
   "outputs": [],
   "source": [
    "weights.columns = ['PC_1']"
   ]
  },
  {
   "cell_type": "code",
   "execution_count": 44,
   "metadata": {},
   "outputs": [
    {
     "name": "stderr",
     "output_type": "stream",
     "text": [
      "/opt/conda/lib/python3.6/site-packages/ipykernel_launcher.py:1: FutureWarning: by argument to sort_index is deprecated, please use .sort_values(by=...)\n",
      "  \"\"\"Entry point for launching an IPython kernel.\n"
     ]
    }
   ],
   "source": [
    "weights = weights.sort_index(by=['PC_1'], ascending=False)"
   ]
  },
  {
   "cell_type": "code",
   "execution_count": 45,
   "metadata": {},
   "outputs": [
    {
     "data": {
      "text/html": [
       "<div>\n",
       "<style scoped>\n",
       "    .dataframe tbody tr th:only-of-type {\n",
       "        vertical-align: middle;\n",
       "    }\n",
       "\n",
       "    .dataframe tbody tr th {\n",
       "        vertical-align: top;\n",
       "    }\n",
       "\n",
       "    .dataframe thead th {\n",
       "        text-align: right;\n",
       "    }\n",
       "</style>\n",
       "<table border=\"1\" class=\"dataframe\">\n",
       "  <thead>\n",
       "    <tr style=\"text-align: right;\">\n",
       "      <th></th>\n",
       "      <th>PC_1</th>\n",
       "    </tr>\n",
       "  </thead>\n",
       "  <tbody>\n",
       "    <tr>\n",
       "      <th>PLZ8_ANTG3</th>\n",
       "      <td>0.227538</td>\n",
       "    </tr>\n",
       "    <tr>\n",
       "      <th>PLZ8_ANTG4</th>\n",
       "      <td>0.220711</td>\n",
       "    </tr>\n",
       "    <tr>\n",
       "      <th>WEALTH</th>\n",
       "      <td>0.208150</td>\n",
       "    </tr>\n",
       "    <tr>\n",
       "      <th>HH_EINKOMMEN_SCORE</th>\n",
       "      <td>0.204578</td>\n",
       "    </tr>\n",
       "    <tr>\n",
       "      <th>ORTSGR_KLS9</th>\n",
       "      <td>0.198234</td>\n",
       "    </tr>\n",
       "    <tr>\n",
       "      <th>EWDICHTE</th>\n",
       "      <td>0.196484</td>\n",
       "    </tr>\n",
       "    <tr>\n",
       "      <th>FINANZ_HAUSBAUER</th>\n",
       "      <td>0.163578</td>\n",
       "    </tr>\n",
       "    <tr>\n",
       "      <th>PLZ8_ANTG2</th>\n",
       "      <td>0.154814</td>\n",
       "    </tr>\n",
       "    <tr>\n",
       "      <th>KBA05_ANTG4</th>\n",
       "      <td>0.153722</td>\n",
       "    </tr>\n",
       "    <tr>\n",
       "      <th>ARBEIT</th>\n",
       "      <td>0.144438</td>\n",
       "    </tr>\n",
       "    <tr>\n",
       "      <th>FINANZ_SPARER</th>\n",
       "      <td>0.142773</td>\n",
       "    </tr>\n",
       "    <tr>\n",
       "      <th>ANZ_HAUSHALTE_AKTIV</th>\n",
       "      <td>0.136567</td>\n",
       "    </tr>\n",
       "    <tr>\n",
       "      <th>RELAT_AB</th>\n",
       "      <td>0.136247</td>\n",
       "    </tr>\n",
       "    <tr>\n",
       "      <th>KBA05_ANTG3</th>\n",
       "      <td>0.135865</td>\n",
       "    </tr>\n",
       "    <tr>\n",
       "      <th>SEMIO_PFLICHT</th>\n",
       "      <td>0.111728</td>\n",
       "    </tr>\n",
       "    <tr>\n",
       "      <th>SEMIO_REL</th>\n",
       "      <td>0.108807</td>\n",
       "    </tr>\n",
       "    <tr>\n",
       "      <th>DECADE</th>\n",
       "      <td>0.097662</td>\n",
       "    </tr>\n",
       "    <tr>\n",
       "      <th>SEMIO_RAT</th>\n",
       "      <td>0.091584</td>\n",
       "    </tr>\n",
       "    <tr>\n",
       "      <th>SEMIO_TRADV</th>\n",
       "      <td>0.085123</td>\n",
       "    </tr>\n",
       "    <tr>\n",
       "      <th>SEMIO_MAT</th>\n",
       "      <td>0.076090</td>\n",
       "    </tr>\n",
       "    <tr>\n",
       "      <th>SEMIO_FAM</th>\n",
       "      <td>0.075339</td>\n",
       "    </tr>\n",
       "    <tr>\n",
       "      <th>REGIOTYP</th>\n",
       "      <td>0.073256</td>\n",
       "    </tr>\n",
       "    <tr>\n",
       "      <th>FINANZ_UNAUFFAELLIGER</th>\n",
       "      <td>0.070433</td>\n",
       "    </tr>\n",
       "    <tr>\n",
       "      <th>SEMIO_KULT</th>\n",
       "      <td>0.069625</td>\n",
       "    </tr>\n",
       "    <tr>\n",
       "      <th>FINANZ_ANLEGER</th>\n",
       "      <td>0.066163</td>\n",
       "    </tr>\n",
       "    <tr>\n",
       "      <th>OST_WEST_KZ</th>\n",
       "      <td>0.054125</td>\n",
       "    </tr>\n",
       "    <tr>\n",
       "      <th>KKK</th>\n",
       "      <td>0.044132</td>\n",
       "    </tr>\n",
       "    <tr>\n",
       "      <th>SEMIO_SOZ</th>\n",
       "      <td>0.041914</td>\n",
       "    </tr>\n",
       "    <tr>\n",
       "      <th>PLZ8_HHZ</th>\n",
       "      <td>0.041746</td>\n",
       "    </tr>\n",
       "    <tr>\n",
       "      <th>SEMIO_KAEM</th>\n",
       "      <td>0.040659</td>\n",
       "    </tr>\n",
       "    <tr>\n",
       "      <th>...</th>\n",
       "      <td>...</td>\n",
       "    </tr>\n",
       "    <tr>\n",
       "      <th>SEMIO_DOM</th>\n",
       "      <td>0.024430</td>\n",
       "    </tr>\n",
       "    <tr>\n",
       "      <th>KBA05_ANTG2</th>\n",
       "      <td>0.008839</td>\n",
       "    </tr>\n",
       "    <tr>\n",
       "      <th>ANREDE_KZ</th>\n",
       "      <td>0.008222</td>\n",
       "    </tr>\n",
       "    <tr>\n",
       "      <th>SEMIO_KRIT</th>\n",
       "      <td>0.005147</td>\n",
       "    </tr>\n",
       "    <tr>\n",
       "      <th>SOHO_KZ</th>\n",
       "      <td>-0.002015</td>\n",
       "    </tr>\n",
       "    <tr>\n",
       "      <th>ANZ_TITEL</th>\n",
       "      <td>-0.004085</td>\n",
       "    </tr>\n",
       "    <tr>\n",
       "      <th>RETOURTYP_BK_S</th>\n",
       "      <td>-0.016017</td>\n",
       "    </tr>\n",
       "    <tr>\n",
       "      <th>SEMIO_VERT</th>\n",
       "      <td>-0.040786</td>\n",
       "    </tr>\n",
       "    <tr>\n",
       "      <th>ONLINE_AFFINITAET</th>\n",
       "      <td>-0.046909</td>\n",
       "    </tr>\n",
       "    <tr>\n",
       "      <th>MIN_GEBAEUDEJAHR</th>\n",
       "      <td>-0.054106</td>\n",
       "    </tr>\n",
       "    <tr>\n",
       "      <th>WOHNDAUER_2008</th>\n",
       "      <td>-0.058669</td>\n",
       "    </tr>\n",
       "    <tr>\n",
       "      <th>SEMIO_LUST</th>\n",
       "      <td>-0.069902</td>\n",
       "    </tr>\n",
       "    <tr>\n",
       "      <th>SEMIO_ERL</th>\n",
       "      <td>-0.073026</td>\n",
       "    </tr>\n",
       "    <tr>\n",
       "      <th>KBA13_ANZAHL_PKW</th>\n",
       "      <td>-0.078677</td>\n",
       "    </tr>\n",
       "    <tr>\n",
       "      <th>ANZ_PERSONEN</th>\n",
       "      <td>-0.079175</td>\n",
       "    </tr>\n",
       "    <tr>\n",
       "      <th>MOVEMENT</th>\n",
       "      <td>-0.107439</td>\n",
       "    </tr>\n",
       "    <tr>\n",
       "      <th>GREEN_AVANTGARDE</th>\n",
       "      <td>-0.109744</td>\n",
       "    </tr>\n",
       "    <tr>\n",
       "      <th>FINANZ_VORSORGER</th>\n",
       "      <td>-0.110402</td>\n",
       "    </tr>\n",
       "    <tr>\n",
       "      <th>ALTERSKATEGORIE_GROB</th>\n",
       "      <td>-0.115619</td>\n",
       "    </tr>\n",
       "    <tr>\n",
       "      <th>GEBAEUDETYP_RASTER</th>\n",
       "      <td>-0.117753</td>\n",
       "    </tr>\n",
       "    <tr>\n",
       "      <th>LIFE_STAGE</th>\n",
       "      <td>-0.125336</td>\n",
       "    </tr>\n",
       "    <tr>\n",
       "      <th>BALLRAUM</th>\n",
       "      <td>-0.127904</td>\n",
       "    </tr>\n",
       "    <tr>\n",
       "      <th>INNENSTADT</th>\n",
       "      <td>-0.165546</td>\n",
       "    </tr>\n",
       "    <tr>\n",
       "      <th>PLZ8_GBZ</th>\n",
       "      <td>-0.168484</td>\n",
       "    </tr>\n",
       "    <tr>\n",
       "      <th>KONSUMNAEHE</th>\n",
       "      <td>-0.168677</td>\n",
       "    </tr>\n",
       "    <tr>\n",
       "      <th>KBA05_GBZ</th>\n",
       "      <td>-0.217983</td>\n",
       "    </tr>\n",
       "    <tr>\n",
       "      <th>FINANZ_MINIMALIST</th>\n",
       "      <td>-0.218403</td>\n",
       "    </tr>\n",
       "    <tr>\n",
       "      <th>KBA05_ANTG1</th>\n",
       "      <td>-0.226434</td>\n",
       "    </tr>\n",
       "    <tr>\n",
       "      <th>PLZ8_ANTG1</th>\n",
       "      <td>-0.227175</td>\n",
       "    </tr>\n",
       "    <tr>\n",
       "      <th>MOBI_REGIO</th>\n",
       "      <td>-0.242955</td>\n",
       "    </tr>\n",
       "  </tbody>\n",
       "</table>\n",
       "<p>64 rows × 1 columns</p>\n",
       "</div>"
      ],
      "text/plain": [
       "                           PC_1\n",
       "PLZ8_ANTG3             0.227538\n",
       "PLZ8_ANTG4             0.220711\n",
       "WEALTH                 0.208150\n",
       "HH_EINKOMMEN_SCORE     0.204578\n",
       "ORTSGR_KLS9            0.198234\n",
       "EWDICHTE               0.196484\n",
       "FINANZ_HAUSBAUER       0.163578\n",
       "PLZ8_ANTG2             0.154814\n",
       "KBA05_ANTG4            0.153722\n",
       "ARBEIT                 0.144438\n",
       "FINANZ_SPARER          0.142773\n",
       "ANZ_HAUSHALTE_AKTIV    0.136567\n",
       "RELAT_AB               0.136247\n",
       "KBA05_ANTG3            0.135865\n",
       "SEMIO_PFLICHT          0.111728\n",
       "SEMIO_REL              0.108807\n",
       "DECADE                 0.097662\n",
       "SEMIO_RAT              0.091584\n",
       "SEMIO_TRADV            0.085123\n",
       "SEMIO_MAT              0.076090\n",
       "SEMIO_FAM              0.075339\n",
       "REGIOTYP               0.073256\n",
       "FINANZ_UNAUFFAELLIGER  0.070433\n",
       "SEMIO_KULT             0.069625\n",
       "FINANZ_ANLEGER         0.066163\n",
       "OST_WEST_KZ            0.054125\n",
       "KKK                    0.044132\n",
       "SEMIO_SOZ              0.041914\n",
       "PLZ8_HHZ               0.041746\n",
       "SEMIO_KAEM             0.040659\n",
       "...                         ...\n",
       "SEMIO_DOM              0.024430\n",
       "KBA05_ANTG2            0.008839\n",
       "ANREDE_KZ              0.008222\n",
       "SEMIO_KRIT             0.005147\n",
       "SOHO_KZ               -0.002015\n",
       "ANZ_TITEL             -0.004085\n",
       "RETOURTYP_BK_S        -0.016017\n",
       "SEMIO_VERT            -0.040786\n",
       "ONLINE_AFFINITAET     -0.046909\n",
       "MIN_GEBAEUDEJAHR      -0.054106\n",
       "WOHNDAUER_2008        -0.058669\n",
       "SEMIO_LUST            -0.069902\n",
       "SEMIO_ERL             -0.073026\n",
       "KBA13_ANZAHL_PKW      -0.078677\n",
       "ANZ_PERSONEN          -0.079175\n",
       "MOVEMENT              -0.107439\n",
       "GREEN_AVANTGARDE      -0.109744\n",
       "FINANZ_VORSORGER      -0.110402\n",
       "ALTERSKATEGORIE_GROB  -0.115619\n",
       "GEBAEUDETYP_RASTER    -0.117753\n",
       "LIFE_STAGE            -0.125336\n",
       "BALLRAUM              -0.127904\n",
       "INNENSTADT            -0.165546\n",
       "PLZ8_GBZ              -0.168484\n",
       "KONSUMNAEHE           -0.168677\n",
       "KBA05_GBZ             -0.217983\n",
       "FINANZ_MINIMALIST     -0.218403\n",
       "KBA05_ANTG1           -0.226434\n",
       "PLZ8_ANTG1            -0.227175\n",
       "MOBI_REGIO            -0.242955\n",
       "\n",
       "[64 rows x 1 columns]"
      ]
     },
     "execution_count": 45,
     "metadata": {},
     "output_type": "execute_result"
    }
   ],
   "source": [
    "weights"
   ]
  },
  {
   "cell_type": "markdown",
   "metadata": {},
   "source": [
    "### Discussion 2.2: Perform Dimensionality Reduction\n",
    "re applies the  feature scaling by retaining the no of components reduced to 30. it covers more than 80% of the variance explained\n"
   ]
  },
  {
   "cell_type": "markdown",
   "metadata": {},
   "source": [
    "### Step 2.3: Interpret Principal Components\n",
    "\n",
    "Now that we have our transformed principal components, it's a nice idea to check out the weight of each variable on the first few components to see if they can be interpreted in some fashion.\n",
    "\n",
    "As a reminder, each principal component is a unit vector that points in the direction of highest variance (after accounting for the variance captured by earlier principal components). The further a weight is from zero, the more the principal component is in the direction of the corresponding feature. If two features have large weights of the same sign (both positive or both negative), then increases in one tend expect to be associated with increases in the other. To contrast, features with different signs can be expected to show a negative correlation: increases in one variable should result in a decrease in the other.\n",
    "\n",
    "- To investigate the features, you should map each weight to their corresponding feature name, then sort the features according to weight. The most interesting features for each principal component, then, will be those at the beginning and end of the sorted list. Use the data dictionary document to help you understand these most prominent features, their relationships, and what a positive or negative value on the principal component might indicate.\n",
    "- You should investigate and interpret feature associations from the first three principal components in this substep. To help facilitate this, you should write a function that you can call at any time to print the sorted list of feature weights, for the *i*-th principal component. This might come in handy in the next step of the project, when you interpret the tendencies of the discovered clusters."
   ]
  },
  {
   "cell_type": "code",
   "execution_count": 46,
   "metadata": {},
   "outputs": [],
   "source": [
    "def map_weights(pc_no, pca):\n",
    "    weights = pd.DataFrame(pca.components_[pc_no])\n",
    "    weights.index = azdias5.columns\n",
    "    column_name = 'PC_'+ str(pc_no)\n",
    "    weights.columns = [column_name]\n",
    "    weights = weights.sort_index(by=[column_name], ascending=False)\n",
    "    print(weights)"
   ]
  },
  {
   "cell_type": "code",
   "execution_count": 47,
   "metadata": {},
   "outputs": [
    {
     "name": "stdout",
     "output_type": "stream",
     "text": [
      "                           PC_0\n",
      "PLZ8_ANTG3             0.227538\n",
      "PLZ8_ANTG4             0.220711\n",
      "WEALTH                 0.208150\n",
      "HH_EINKOMMEN_SCORE     0.204578\n",
      "ORTSGR_KLS9            0.198234\n",
      "EWDICHTE               0.196484\n",
      "FINANZ_HAUSBAUER       0.163578\n",
      "PLZ8_ANTG2             0.154814\n",
      "KBA05_ANTG4            0.153722\n",
      "ARBEIT                 0.144438\n",
      "FINANZ_SPARER          0.142773\n",
      "ANZ_HAUSHALTE_AKTIV    0.136567\n",
      "RELAT_AB               0.136247\n",
      "KBA05_ANTG3            0.135865\n",
      "SEMIO_PFLICHT          0.111728\n",
      "SEMIO_REL              0.108807\n",
      "DECADE                 0.097662\n",
      "SEMIO_RAT              0.091584\n",
      "SEMIO_TRADV            0.085123\n",
      "SEMIO_MAT              0.076090\n",
      "SEMIO_FAM              0.075339\n",
      "REGIOTYP               0.073256\n",
      "FINANZ_UNAUFFAELLIGER  0.070433\n",
      "SEMIO_KULT             0.069625\n",
      "FINANZ_ANLEGER         0.066163\n",
      "OST_WEST_KZ            0.054125\n",
      "KKK                    0.044132\n",
      "SEMIO_SOZ              0.041914\n",
      "PLZ8_HHZ               0.041746\n",
      "SEMIO_KAEM             0.040659\n",
      "...                         ...\n",
      "SEMIO_DOM              0.024430\n",
      "KBA05_ANTG2            0.008839\n",
      "ANREDE_KZ              0.008222\n",
      "SEMIO_KRIT             0.005147\n",
      "SOHO_KZ               -0.002015\n",
      "ANZ_TITEL             -0.004085\n",
      "RETOURTYP_BK_S        -0.016017\n",
      "SEMIO_VERT            -0.040786\n",
      "ONLINE_AFFINITAET     -0.046909\n",
      "MIN_GEBAEUDEJAHR      -0.054106\n",
      "WOHNDAUER_2008        -0.058669\n",
      "SEMIO_LUST            -0.069902\n",
      "SEMIO_ERL             -0.073026\n",
      "KBA13_ANZAHL_PKW      -0.078677\n",
      "ANZ_PERSONEN          -0.079175\n",
      "MOVEMENT              -0.107439\n",
      "GREEN_AVANTGARDE      -0.109744\n",
      "FINANZ_VORSORGER      -0.110402\n",
      "ALTERSKATEGORIE_GROB  -0.115619\n",
      "GEBAEUDETYP_RASTER    -0.117753\n",
      "LIFE_STAGE            -0.125336\n",
      "BALLRAUM              -0.127904\n",
      "INNENSTADT            -0.165546\n",
      "PLZ8_GBZ              -0.168484\n",
      "KONSUMNAEHE           -0.168677\n",
      "KBA05_GBZ             -0.217983\n",
      "FINANZ_MINIMALIST     -0.218403\n",
      "KBA05_ANTG1           -0.226434\n",
      "PLZ8_ANTG1            -0.227175\n",
      "MOBI_REGIO            -0.242955\n",
      "\n",
      "[64 rows x 1 columns]\n"
     ]
    },
    {
     "name": "stderr",
     "output_type": "stream",
     "text": [
      "/opt/conda/lib/python3.6/site-packages/ipykernel_launcher.py:6: FutureWarning: by argument to sort_index is deprecated, please use .sort_values(by=...)\n",
      "  \n"
     ]
    }
   ],
   "source": [
    "# Map weights for the first principal component to corresponding feature names\n",
    "# and then print the linked values, sorted by weight.\n",
    "# HINT: Try defining a function here or in a new cell that you can reuse in the\n",
    "# other cells.\n",
    "\n",
    "map_weights(0, pca_30)\n"
   ]
  },
  {
   "cell_type": "code",
   "execution_count": 48,
   "metadata": {},
   "outputs": [
    {
     "name": "stdout",
     "output_type": "stream",
     "text": [
      "                           PC_1\n",
      "ALTERSKATEGORIE_GROB   0.261283\n",
      "FINANZ_VORSORGER       0.234231\n",
      "SEMIO_ERL              0.230951\n",
      "SEMIO_LUST             0.184139\n",
      "RETOURTYP_BK_S         0.164122\n",
      "W_KEIT_KIND_HH         0.119239\n",
      "SEMIO_KRIT             0.115008\n",
      "FINANZ_HAUSBAUER       0.114895\n",
      "SEMIO_KAEM             0.111050\n",
      "ANREDE_KZ              0.089440\n",
      "PLZ8_ANTG3             0.089067\n",
      "EWDICHTE               0.088477\n",
      "ORTSGR_KLS9            0.087002\n",
      "PLZ8_ANTG4             0.085022\n",
      "WEALTH                 0.071328\n",
      "SEMIO_DOM              0.069780\n",
      "FINANZ_MINIMALIST      0.069331\n",
      "KBA05_ANTG4            0.066076\n",
      "ARBEIT                 0.065027\n",
      "RELAT_AB               0.062600\n",
      "PLZ8_ANTG2             0.061413\n",
      "WOHNDAUER_2008         0.061017\n",
      "ANZ_HAUSHALTE_AKTIV    0.060734\n",
      "HH_EINKOMMEN_SCORE     0.052833\n",
      "KBA05_ANTG3            0.040478\n",
      "VERS_TYP               0.033379\n",
      "ANZ_HH_TITEL           0.030518\n",
      "OST_WEST_KZ            0.024643\n",
      "REGIOTYP               0.020708\n",
      "PLZ8_HHZ               0.012160\n",
      "...                         ...\n",
      "KBA05_ANTG2           -0.009742\n",
      "MOVEMENT              -0.011790\n",
      "GREEN_AVANTGARDE      -0.013725\n",
      "KBA13_ANZAHL_PKW      -0.034498\n",
      "GEBAEUDETYP_RASTER    -0.041703\n",
      "MIN_GEBAEUDEJAHR      -0.048716\n",
      "HEALTH_TYP            -0.058243\n",
      "BALLRAUM              -0.058348\n",
      "ANZ_PERSONEN          -0.060230\n",
      "KONSUMNAEHE           -0.066739\n",
      "SEMIO_VERT            -0.068667\n",
      "PLZ8_GBZ              -0.068685\n",
      "INNENSTADT            -0.071558\n",
      "KBA05_ANTG1           -0.074430\n",
      "KBA05_GBZ             -0.083884\n",
      "MOBI_REGIO            -0.084162\n",
      "PLZ8_ANTG1            -0.086503\n",
      "SEMIO_SOZ             -0.102609\n",
      "SEMIO_MAT             -0.163825\n",
      "ONLINE_AFFINITAET     -0.164529\n",
      "SEMIO_RAT             -0.172108\n",
      "SEMIO_FAM             -0.184152\n",
      "FINANZ_ANLEGER        -0.205447\n",
      "SEMIO_KULT            -0.219730\n",
      "FINANZ_UNAUFFAELLIGER -0.228362\n",
      "SEMIO_PFLICHT         -0.229281\n",
      "SEMIO_TRADV           -0.232274\n",
      "FINANZ_SPARER         -0.237381\n",
      "DECADE                -0.252475\n",
      "SEMIO_REL             -0.255788\n",
      "\n",
      "[64 rows x 1 columns]\n"
     ]
    },
    {
     "name": "stderr",
     "output_type": "stream",
     "text": [
      "/opt/conda/lib/python3.6/site-packages/ipykernel_launcher.py:6: FutureWarning: by argument to sort_index is deprecated, please use .sort_values(by=...)\n",
      "  \n"
     ]
    }
   ],
   "source": [
    "# Map weights for the second principal component to corresponding feature names\n",
    "# and then print the linked values, sorted by weight.\n",
    "\n",
    "map_weights(1, pca_30)"
   ]
  },
  {
   "cell_type": "code",
   "execution_count": 49,
   "metadata": {},
   "outputs": [
    {
     "name": "stdout",
     "output_type": "stream",
     "text": [
      "                           PC_2\n",
      "SEMIO_VERT             0.345552\n",
      "SEMIO_SOZ              0.262897\n",
      "SEMIO_FAM              0.250424\n",
      "SEMIO_KULT             0.235415\n",
      "FINANZ_MINIMALIST      0.155844\n",
      "RETOURTYP_BK_S         0.108634\n",
      "FINANZ_VORSORGER       0.100688\n",
      "W_KEIT_KIND_HH         0.090724\n",
      "ALTERSKATEGORIE_GROB   0.078552\n",
      "SEMIO_REL              0.070566\n",
      "SEMIO_LUST             0.064425\n",
      "SEMIO_MAT              0.055279\n",
      "GREEN_AVANTGARDE       0.047455\n",
      "ORTSGR_KLS9            0.046099\n",
      "MOVEMENT               0.045567\n",
      "EWDICHTE               0.045526\n",
      "PLZ8_ANTG4             0.044891\n",
      "PLZ8_ANTG3             0.044485\n",
      "ARBEIT                 0.034432\n",
      "WOHNDAUER_2008         0.033148\n",
      "RELAT_AB               0.031403\n",
      "PLZ8_ANTG2             0.029704\n",
      "WEALTH                 0.027249\n",
      "KBA05_ANTG4            0.026672\n",
      "ANZ_HAUSHALTE_AKTIV    0.025270\n",
      "OST_WEST_KZ            0.015005\n",
      "ANZ_HH_TITEL           0.013291\n",
      "VERS_TYP               0.013004\n",
      "ANZ_TITEL              0.009732\n",
      "KBA05_ANTG3            0.007667\n",
      "...                         ...\n",
      "ANZ_PERSONEN          -0.008754\n",
      "KBA05_ANTG2           -0.010808\n",
      "KKK                   -0.013782\n",
      "MIN_GEBAEUDEJAHR      -0.018580\n",
      "HH_EINKOMMEN_SCORE    -0.018971\n",
      "HEALTH_TYP            -0.022077\n",
      "KBA05_ANTG1           -0.022796\n",
      "KBA13_ANZAHL_PKW      -0.023136\n",
      "KBA05_GBZ             -0.026026\n",
      "MOBI_REGIO            -0.028861\n",
      "GEBAEUDETYP_RASTER    -0.030001\n",
      "BALLRAUM              -0.034235\n",
      "KONSUMNAEHE           -0.037256\n",
      "PLZ8_GBZ              -0.038055\n",
      "INNENSTADT            -0.042248\n",
      "FINANZ_HAUSBAUER      -0.042488\n",
      "PLZ8_ANTG1            -0.045390\n",
      "ONLINE_AFFINITAET     -0.054821\n",
      "SEMIO_PFLICHT         -0.078269\n",
      "SEMIO_TRADV           -0.078774\n",
      "FINANZ_UNAUFFAELLIGER -0.099234\n",
      "FINANZ_SPARER         -0.105710\n",
      "DECADE                -0.107369\n",
      "SEMIO_ERL             -0.176363\n",
      "FINANZ_ANLEGER        -0.188671\n",
      "SEMIO_RAT             -0.217237\n",
      "SEMIO_KRIT            -0.275533\n",
      "SEMIO_DOM             -0.314173\n",
      "SEMIO_KAEM            -0.337295\n",
      "ANREDE_KZ             -0.368873\n",
      "\n",
      "[64 rows x 1 columns]\n"
     ]
    },
    {
     "name": "stderr",
     "output_type": "stream",
     "text": [
      "/opt/conda/lib/python3.6/site-packages/ipykernel_launcher.py:6: FutureWarning: by argument to sort_index is deprecated, please use .sort_values(by=...)\n",
      "  \n"
     ]
    }
   ],
   "source": [
    "# Map weights for the third principal component to corresponding feature names\n",
    "# and then print the linked values, sorted by weight.\n",
    "\n",
    "map_weights(2, pca_30)"
   ]
  },
  {
   "cell_type": "code",
   "execution_count": 50,
   "metadata": {},
   "outputs": [
    {
     "data": {
      "text/plain": [
       "56.346819726973237"
      ]
     },
     "execution_count": 50,
     "metadata": {},
     "output_type": "execute_result"
    }
   ],
   "source": [
    "pca_30.explained_variance_.sum()"
   ]
  },
  {
   "cell_type": "markdown",
   "metadata": {},
   "source": [
    "### Discussion 2.3: Interpret Principal Components\n",
    "\n",
    "First component \n",
    "\n",
    "positive: PLZ8_ANTG3, PLZ8_ANTG4 & WEALTH\n",
    "negative : MOBI_REGIO, PLZ8_ANTG1 \n",
    "\n",
    "Number of 6-10 family houses in macro cell regions,  Number of 10+ family houses in macro cell regions and  wealth positively influence the first component \n",
    "share of the movement and Number of 1-2 family houses for the macro cell  negatively affects the component \n",
    "\n",
    "Second component\n",
    "\n",
    "positive: ALTERSKATEGORIE_GROB, FINANZ_VORSORGER\n",
    "negative: DECADE, SEMIO_REL\n",
    "\n",
    "Age and Finance positively influence the second component\n",
    "share of the generation by decade and personality negatively affects the component   \n",
    "\n",
    "Third component:\n",
    "\n",
    "positive: SEMIO_VERT, SEMIO_SOZ, SEMIO_FAM\n",
    "negative: SEMIO_DOM, SEMIO_KAEM, ANREDE_KZ\n",
    "\n",
    "Dreamful, socialy minded and family minded personality positively influence the first component\n",
    "share of dominant minded, combative attitude and gender negatively affects the component\n",
    "\n",
    "\n",
    "(Double-click this cell and replace this text with your own text, reporting your observations from detailed investigation of the first few principal components generated. Can we interpret positive and negative values from them in a meaningful way?)"
   ]
  },
  {
   "cell_type": "markdown",
   "metadata": {},
   "source": [
    "## Step 3: Clustering\n",
    "\n",
    "### Step 3.1: Apply Clustering to General Population\n",
    "\n",
    "You've assessed and cleaned the demographics data, then scaled and transformed them. Now, it's time to see how the data clusters in the principal components space. In this substep, you will apply k-means clustering to the dataset and use the average within-cluster distances from each point to their assigned cluster's centroid to decide on a number of clusters to keep.\n",
    "\n",
    "- Use sklearn's [KMeans](http://scikit-learn.org/stable/modules/generated/sklearn.cluster.KMeans.html#sklearn.cluster.KMeans) class to perform k-means clustering on the PCA-transformed data.\n",
    "- Then, compute the average difference from each point to its assigned cluster's center. **Hint**: The KMeans object's `.score()` method might be useful here, but note that in sklearn, scores tend to be defined so that larger is better. Try applying it to a small, toy dataset, or use an internet search to help your understanding.\n",
    "- Perform the above two steps for a number of different cluster counts. You can then see how the average distance decreases with an increasing number of clusters. However, each additional cluster provides a smaller net benefit. Use this fact to select a final number of clusters in which to group the data. **Warning**: because of the large size of the dataset, it can take a long time for the algorithm to resolve. The more clusters to fit, the longer the algorithm will take. You should test for cluster counts through at least 10 clusters to get the full picture, but you shouldn't need to test for a number of clusters above about 30.\n",
    "- Once you've selected a final number of clusters to use, re-fit a KMeans instance to perform the clustering operation. Make sure that you also obtain the cluster assignments for the general demographics data, since you'll be using them in the final Step 3.3."
   ]
  },
  {
   "cell_type": "code",
   "execution_count": 51,
   "metadata": {},
   "outputs": [],
   "source": [
    "# Over a number of different cluster counts...\n",
    "def get_kmeans_score(data, center):\n",
    "    '''\n",
    "    returns the kmeans score regarding SSE for points to centers\n",
    "    INPUT:\n",
    "        data - the dataset you want to fit kmeans to\n",
    "        center - the number of centers you want (the k value)\n",
    "    OUTPUT:\n",
    "        score - the SSE score for the kmeans model fit to the data\n",
    "    '''\n",
    "    #instantiate kmeans\n",
    "    kmeans = KMeans(n_clusters=center)\n",
    "\n",
    "    # Then fit the model to your data using the fit method\n",
    "    model = kmeans.fit(data)\n",
    "\n",
    "    # Obtain a score related to the model fit\n",
    "    score = np.abs(model.score(data))\n",
    "    print(score)\n",
    "    print(center)\n",
    "\n",
    "    return score\n",
    "\n",
    "\n",
    "    # run k-means clustering on the data and...\n",
    "    \n",
    "scores = []\n",
    "centers = list(range(1,20))\n",
    "    # compute the average within-cluster distances.\n",
    "    \n",
    "    "
   ]
  },
  {
   "cell_type": "code",
   "execution_count": 52,
   "metadata": {},
   "outputs": [
    {
     "name": "stdout",
     "output_type": "stream",
     "text": [
      "44619996.9886\n",
      "1\n",
      "38192515.3895\n",
      "2\n",
      "34937382.0906\n",
      "3\n",
      "32853942.4067\n",
      "4\n",
      "31394972.2005\n",
      "5\n",
      "30160274.3875\n",
      "6\n",
      "29033550.7276\n",
      "7\n",
      "28173955.6983\n",
      "8\n",
      "27408923.2357\n",
      "9\n",
      "27012264.8238\n",
      "10\n",
      "26585914.2118\n",
      "11\n",
      "25850430.8984\n",
      "12\n",
      "25534211.9186\n",
      "13\n",
      "25283662.597\n",
      "14\n",
      "24923146.3652\n",
      "15\n",
      "24660208.1391\n",
      "16\n",
      "24426641.2354\n",
      "17\n",
      "23787722.8189\n",
      "18\n",
      "23416825.3715\n",
      "19\n"
     ]
    },
    {
     "data": {
      "image/png": "[encoded data removed]",
      "text/plain": [
       "<matplotlib.figure.Figure at 0x7f13782e7048>"
      ]
     },
     "metadata": {
      "needs_background": "light"
     },
     "output_type": "display_data"
    }
   ],
   "source": [
    "# Investigate the change in within-cluster distance across number of clusters.\n",
    "# HINT: Use matplotlib's plot function to visualize this relationship.\n",
    "for center in centers:\n",
    "    scores.append(get_kmeans_score(xpca_30, center))\n",
    "    \n",
    "plt.plot(centers, scores, linestyle='--', marker='o', color='b');\n",
    "plt.xlabel('K');\n",
    "plt.ylabel('SSE');\n",
    "plt.title('SSE vs. K');\n"
   ]
  },
  {
   "cell_type": "code",
   "execution_count": 52,
   "metadata": {},
   "outputs": [],
   "source": [
    "# Re-fit the k-means model with the selected number of clusters and obtain\n",
    "# cluster predictions for the general population demographics data.\n",
    "model = KMeans(n_clusters=14)\n",
    "labels = model.fit_predict(xpca_30)\n"
   ]
  },
  {
   "cell_type": "code",
   "execution_count": 53,
   "metadata": {},
   "outputs": [],
   "source": [
    "general_data = labels"
   ]
  },
  {
   "cell_type": "markdown",
   "metadata": {},
   "source": [
    "### Discussion 3.1: Apply Clustering to General Population\n",
    "\n",
    "Apply the elbow method to find the best 'k' value\n",
    "from the graph it is clear that change happens after k=14"
   ]
  },
  {
   "cell_type": "markdown",
   "metadata": {},
   "source": [
    "### Step 3.2: Apply All Steps to the Customer Data\n",
    "\n",
    "Now that you have clusters and cluster centers for the general population, it's time to see how the customer data maps on to those clusters. Take care to not confuse this for re-fitting all of the models to the customer data. Instead, you're going to use the fits from the general population to clean, transform, and cluster the customer data. In the last step of the project, you will interpret how the general population fits apply to the customer data.\n",
    "\n",
    "- Don't forget when loading in the customers data, that it is semicolon (`;`) delimited.\n",
    "- Apply the same feature wrangling, selection, and engineering steps to the customer demographics using the `clean_data()` function you created earlier. (You can assume that the customer demographics data has similar meaning behind missing data patterns as the general demographics data.)\n",
    "- Use the sklearn objects from the general demographics data, and apply their transformations to the customers data. That is, you should not be using a `.fit()` or `.fit_transform()` method to re-fit the old objects, nor should you be creating new sklearn objects! Carry the data through the feature scaling, PCA, and clustering steps, obtaining cluster assignments for all of the data in the customer demographics data."
   ]
  },
  {
   "cell_type": "code",
   "execution_count": 54,
   "metadata": {},
   "outputs": [],
   "source": [
    "# Load in the customer demographics data.\n",
    "customers = pd.read_csv('Udacity_CUSTOMERS_Subset.csv', sep=';')"
   ]
  },
  {
   "cell_type": "code",
   "execution_count": 55,
   "metadata": {},
   "outputs": [
    {
     "data": {
      "text/html": [
       "<div>\n",
       "<style scoped>\n",
       "    .dataframe tbody tr th:only-of-type {\n",
       "        vertical-align: middle;\n",
       "    }\n",
       "\n",
       "    .dataframe tbody tr th {\n",
       "        vertical-align: top;\n",
       "    }\n",
       "\n",
       "    .dataframe thead th {\n",
       "        text-align: right;\n",
       "    }\n",
       "</style>\n",
       "<table border=\"1\" class=\"dataframe\">\n",
       "  <thead>\n",
       "    <tr style=\"text-align: right;\">\n",
       "      <th></th>\n",
       "      <th>AGER_TYP</th>\n",
       "      <th>ALTERSKATEGORIE_GROB</th>\n",
       "      <th>ANREDE_KZ</th>\n",
       "      <th>CJT_GESAMTTYP</th>\n",
       "      <th>FINANZ_MINIMALIST</th>\n",
       "      <th>FINANZ_SPARER</th>\n",
       "      <th>FINANZ_VORSORGER</th>\n",
       "      <th>FINANZ_ANLEGER</th>\n",
       "      <th>FINANZ_UNAUFFAELLIGER</th>\n",
       "      <th>FINANZ_HAUSBAUER</th>\n",
       "      <th>...</th>\n",
       "      <th>PLZ8_ANTG1</th>\n",
       "      <th>PLZ8_ANTG2</th>\n",
       "      <th>PLZ8_ANTG3</th>\n",
       "      <th>PLZ8_ANTG4</th>\n",
       "      <th>PLZ8_BAUMAX</th>\n",
       "      <th>PLZ8_HHZ</th>\n",
       "      <th>PLZ8_GBZ</th>\n",
       "      <th>ARBEIT</th>\n",
       "      <th>ORTSGR_KLS9</th>\n",
       "      <th>RELAT_AB</th>\n",
       "    </tr>\n",
       "  </thead>\n",
       "  <tbody>\n",
       "    <tr>\n",
       "      <th>0</th>\n",
       "      <td>2</td>\n",
       "      <td>4</td>\n",
       "      <td>1</td>\n",
       "      <td>5.0</td>\n",
       "      <td>5</td>\n",
       "      <td>1</td>\n",
       "      <td>5</td>\n",
       "      <td>1</td>\n",
       "      <td>2</td>\n",
       "      <td>2</td>\n",
       "      <td>...</td>\n",
       "      <td>3.0</td>\n",
       "      <td>3.0</td>\n",
       "      <td>1.0</td>\n",
       "      <td>0.0</td>\n",
       "      <td>1.0</td>\n",
       "      <td>5.0</td>\n",
       "      <td>5.0</td>\n",
       "      <td>1.0</td>\n",
       "      <td>2.0</td>\n",
       "      <td>1.0</td>\n",
       "    </tr>\n",
       "    <tr>\n",
       "      <th>1</th>\n",
       "      <td>-1</td>\n",
       "      <td>4</td>\n",
       "      <td>1</td>\n",
       "      <td>NaN</td>\n",
       "      <td>5</td>\n",
       "      <td>1</td>\n",
       "      <td>5</td>\n",
       "      <td>1</td>\n",
       "      <td>3</td>\n",
       "      <td>2</td>\n",
       "      <td>...</td>\n",
       "      <td>NaN</td>\n",
       "      <td>NaN</td>\n",
       "      <td>NaN</td>\n",
       "      <td>NaN</td>\n",
       "      <td>NaN</td>\n",
       "      <td>NaN</td>\n",
       "      <td>NaN</td>\n",
       "      <td>NaN</td>\n",
       "      <td>NaN</td>\n",
       "      <td>NaN</td>\n",
       "    </tr>\n",
       "    <tr>\n",
       "      <th>2</th>\n",
       "      <td>-1</td>\n",
       "      <td>4</td>\n",
       "      <td>2</td>\n",
       "      <td>2.0</td>\n",
       "      <td>5</td>\n",
       "      <td>1</td>\n",
       "      <td>5</td>\n",
       "      <td>1</td>\n",
       "      <td>4</td>\n",
       "      <td>4</td>\n",
       "      <td>...</td>\n",
       "      <td>2.0</td>\n",
       "      <td>3.0</td>\n",
       "      <td>3.0</td>\n",
       "      <td>1.0</td>\n",
       "      <td>3.0</td>\n",
       "      <td>3.0</td>\n",
       "      <td>2.0</td>\n",
       "      <td>3.0</td>\n",
       "      <td>5.0</td>\n",
       "      <td>3.0</td>\n",
       "    </tr>\n",
       "  </tbody>\n",
       "</table>\n",
       "<p>3 rows × 85 columns</p>\n",
       "</div>"
      ],
      "text/plain": [
       "   AGER_TYP  ALTERSKATEGORIE_GROB  ANREDE_KZ  CJT_GESAMTTYP  \\\n",
       "0         2                     4          1            5.0   \n",
       "1        -1                     4          1            NaN   \n",
       "2        -1                     4          2            2.0   \n",
       "\n",
       "   FINANZ_MINIMALIST  FINANZ_SPARER  FINANZ_VORSORGER  FINANZ_ANLEGER  \\\n",
       "0                  5              1                 5               1   \n",
       "1                  5              1                 5               1   \n",
       "2                  5              1                 5               1   \n",
       "\n",
       "   FINANZ_UNAUFFAELLIGER  FINANZ_HAUSBAUER    ...     PLZ8_ANTG1  PLZ8_ANTG2  \\\n",
       "0                      2                 2    ...            3.0         3.0   \n",
       "1                      3                 2    ...            NaN         NaN   \n",
       "2                      4                 4    ...            2.0         3.0   \n",
       "\n",
       "   PLZ8_ANTG3  PLZ8_ANTG4  PLZ8_BAUMAX  PLZ8_HHZ  PLZ8_GBZ  ARBEIT  \\\n",
       "0         1.0         0.0          1.0       5.0       5.0     1.0   \n",
       "1         NaN         NaN          NaN       NaN       NaN     NaN   \n",
       "2         3.0         1.0          3.0       3.0       2.0     3.0   \n",
       "\n",
       "   ORTSGR_KLS9  RELAT_AB  \n",
       "0          2.0       1.0  \n",
       "1          NaN       NaN  \n",
       "2          5.0       3.0  \n",
       "\n",
       "[3 rows x 85 columns]"
      ]
     },
     "execution_count": 55,
     "metadata": {},
     "output_type": "execute_result"
    }
   ],
   "source": [
    "customers.head(n=3)"
   ]
  },
  {
   "cell_type": "code",
   "execution_count": 56,
   "metadata": {},
   "outputs": [
    {
     "name": "stdout",
     "output_type": "stream",
     "text": [
      "converted unknown or missing numbers to nan\n",
      "drops high missing or unknown columns and rows\n",
      "only binary category columns included, multilevel columns excluded\n",
      "all mixed features removed from the dataframe\n",
      "(140978, 62)\n",
      "Int64Index([     0,      2,      3,      4,      5,      6,      7,      8,\n",
      "                 9,     11,\n",
      "            ...\n",
      "            191641, 191642, 191643, 191644, 191645, 191646, 191647, 191649,\n",
      "            191650, 191651],\n",
      "           dtype='int64', length=140978)\n"
     ]
    },
    {
     "data": {
      "text/plain": [
       "array([8, 4, 5, ..., 9, 2, 5], dtype=int32)"
      ]
     },
     "execution_count": 56,
     "metadata": {},
     "output_type": "execute_result"
    }
   ],
   "source": [
    "# Apply preprocessing, feature transformation, and clustering from the general\n",
    "#preprocessinng\n",
    "customers_processed = clean_data(customers)\n",
    "print(customers_processed.index)\n",
    "#transformation\n",
    "customers_transformed = imp.fit_transform(customers_processed)\n",
    "customers_transformed = pd.DataFrame(customers_transformed)\n",
    "from sklearn.decomposition import PCA\n",
    "scaler = StandardScaler()\n",
    "customer_scaled = scaler.fit_transform(customers_transformed)\n",
    "pca = PCA(n_components=30)\n",
    "xpca = pca.fit_transform(customer_scaled)\n",
    "\n",
    "# demographics onto the customer data, obtaining cluster predictions for the\n",
    "# customer demographics data.\n",
    "kmeans = KMeans(n_clusters=14)\n",
    "customers_data = kmeans.fit_predict(xpca)\n",
    "customers_data"
   ]
  },
  {
   "cell_type": "code",
   "execution_count": 57,
   "metadata": {},
   "outputs": [
    {
     "data": {
      "text/plain": [
       "array([8, 4, 5, ..., 9, 2, 5], dtype=int32)"
      ]
     },
     "execution_count": 57,
     "metadata": {},
     "output_type": "execute_result"
    }
   ],
   "source": [
    "customers_data"
   ]
  },
  {
   "cell_type": "markdown",
   "metadata": {},
   "source": [
    "### Step 3.3: Compare Customer Data to Demographics Data\n",
    "\n",
    "At this point, you have clustered data based on demographics of the general population of Germany, and seen how the customer data for a mail-order sales company maps onto those demographic clusters. In this final substep, you will compare the two cluster distributions to see where the strongest customer base for the company is.\n",
    "\n",
    "Consider the proportion of persons in each cluster for the general population, and the proportions for the customers. If we think the company's customer base to be universal, then the cluster assignment proportions should be fairly similar between the two. If there are only particular segments of the population that are interested in the company's products, then we should see a mismatch from one to the other. If there is a higher proportion of persons in a cluster for the customer data compared to the general population (e.g. 5% of persons are assigned to a cluster for the general population, but 15% of the customer data is closest to that cluster's centroid) then that suggests the people in that cluster to be a target audience for the company. On the other hand, the proportion of the data in a cluster being larger in the general population than the customer data (e.g. only 2% of customers closest to a population centroid that captures 6% of the data) suggests that group of persons to be outside of the target demographics.\n",
    "\n",
    "Take a look at the following points in this step:\n",
    "\n",
    "- Compute the proportion of data points in each cluster for the general population and the customer data. Visualizations will be useful here: both for the individual dataset proportions, but also to visualize the ratios in cluster representation between groups. Seaborn's [`countplot()`](https://seaborn.pydata.org/generated/seaborn.countplot.html) or [`barplot()`](https://seaborn.pydata.org/generated/seaborn.barplot.html) function could be handy.\n",
    "  - Recall the analysis you performed in step 1.1.3 of the project, where you separated out certain data points from the dataset if they had more than a specified threshold of missing values. If you found that this group was qualitatively different from the main bulk of the data, you should treat this as an additional data cluster in this analysis. Make sure that you account for the number of data points in this subset, for both the general population and customer datasets, when making your computations!\n",
    "- Which cluster or clusters are overrepresented in the customer dataset compared to the general population? Select at least one such cluster and infer what kind of people might be represented by that cluster. Use the principal component interpretations from step 2.3 or look at additional components to help you make this inference. Alternatively, you can use the `.inverse_transform()` method of the PCA and StandardScaler objects to transform centroids back to the original data space and interpret the retrieved values directly.\n",
    "- Perform a similar investigation for the underrepresented clusters. Which cluster or clusters are underrepresented in the customer dataset compared to the general population, and what kinds of people are typified by these clusters?"
   ]
  },
  {
   "cell_type": "code",
   "execution_count": 58,
   "metadata": {},
   "outputs": [
    {
     "data": {
      "text/plain": [
       "Counter({8: 16228,\n",
       "         4: 11564,\n",
       "         5: 18605,\n",
       "         3: 4283,\n",
       "         13: 14775,\n",
       "         12: 7339,\n",
       "         1: 11276,\n",
       "         2: 10345,\n",
       "         6: 10705,\n",
       "         9: 14206,\n",
       "         7: 11557,\n",
       "         0: 7298,\n",
       "         11: 2510,\n",
       "         10: 287})"
      ]
     },
     "execution_count": 58,
     "metadata": {},
     "output_type": "execute_result"
    }
   ],
   "source": [
    "#y = sorted(general_data.items())\n",
    "from collections import Counter\n",
    "Counter(customers_data)"
   ]
  },
  {
   "cell_type": "code",
   "execution_count": 59,
   "metadata": {},
   "outputs": [
    {
     "data": {
      "text/plain": [
       "<matplotlib.axes._subplots.AxesSubplot at 0x7fb2abd68f98>"
      ]
     },
     "execution_count": 59,
     "metadata": {},
     "output_type": "execute_result"
    },
    {
     "data": {
      "image/png": "[encoded data removed]",
      "text/plain": [
       "<matplotlib.figure.Figure at 0x7fb2b8753908>"
      ]
     },
     "metadata": {
      "needs_background": "light"
     },
     "output_type": "display_data"
    }
   ],
   "source": [
    "# Compare the proportion of data in each cluster for the customer data to the\n",
    "# proportion of data in each cluster for the general population.\n",
    "fig, ax = plt.subplots(1, 2, figsize=(12, 4))\n",
    "ax[0].set_title(\"General Data\")\n",
    "sns.countplot(general_data, ax=ax[0])\n",
    "ax[1].set_title(\"Customer Data\")\n",
    "sns.countplot(customers_data, ax=ax[1])\n",
    "\n"
   ]
  },
  {
   "cell_type": "code",
   "execution_count": 68,
   "metadata": {},
   "outputs": [],
   "source": [
    "# What kinds of people are part of a cluster that is overrepresented in the\n",
    "# customer data compared to the general population?\n",
    "centroid_5 = scaler.inverse_transform(pca.inverse_transform(kmeans.cluster_centers_[5]))"
   ]
  },
  {
   "cell_type": "code",
   "execution_count": 69,
   "metadata": {},
   "outputs": [
    {
     "data": {
      "text/plain": [
       "ALTERSKATEGORIE_GROB        3.729557\n",
       "ANREDE_KZ                   1.033222\n",
       "FINANZ_MINIMALIST           4.846375\n",
       "FINANZ_SPARER               1.073522\n",
       "FINANZ_VORSORGER            4.927600\n",
       "FINANZ_ANLEGER              1.445404\n",
       "FINANZ_UNAUFFAELLIGER       1.495856\n",
       "FINANZ_HAUSBAUER            2.360330\n",
       "GREEN_AVANTGARDE            0.014053\n",
       "HEALTH_TYP                  2.012205\n",
       "RETOURTYP_BK_S              3.785167\n",
       "SEMIO_SOZ                   4.632455\n",
       "SEMIO_FAM                   4.607104\n",
       "SEMIO_REL                   3.428101\n",
       "SEMIO_MAT                   3.176901\n",
       "SEMIO_VERT                  6.147085\n",
       "SEMIO_LUST                  5.593037\n",
       "SEMIO_ERL                   4.581637\n",
       "SEMIO_KULT                  4.688527\n",
       "SEMIO_RAT                   2.419296\n",
       "SEMIO_KRIT                  3.003570\n",
       "SEMIO_DOM                   2.858439\n",
       "SEMIO_KAEM                  2.541024\n",
       "SEMIO_PFLICHT               2.747174\n",
       "SEMIO_TRADV                 2.902442\n",
       "SOHO_KZ                     0.009511\n",
       "VERS_TYP                    1.425390\n",
       "ANZ_PERSONEN                2.445510\n",
       "ANZ_TITEL                   0.000682\n",
       "HH_EINKOMMEN_SCORE          3.434563\n",
       "                            ...     \n",
       "ANZ_HAUSHALTE_AKTIV         2.041648\n",
       "ANZ_HH_TITEL               -0.002160\n",
       "KONSUMNAEHE                 3.861749\n",
       "MIN_GEBAEUDEJAHR         1993.327393\n",
       "OST_WEST_KZ                 0.039694\n",
       "KBA05_ANTG1                 2.705597\n",
       "KBA05_ANTG2                 1.097823\n",
       "KBA05_ANTG3                 0.074261\n",
       "KBA05_ANTG4                 0.019211\n",
       "KBA05_GBZ                   4.161811\n",
       "BALLRAUM                    5.632737\n",
       "EWDICHTE                    2.348563\n",
       "INNENSTADT                  6.180494\n",
       "GEBAEUDETYP_RASTER          4.049123\n",
       "MOBI_REGIO                  4.245545\n",
       "ONLINE_AFFINITAET           2.846839\n",
       "KBA13_ANZAHL_PKW          724.372236\n",
       "PLZ8_ANTG1                  3.034025\n",
       "PLZ8_ANTG2                  2.236935\n",
       "PLZ8_ANTG3                  0.773119\n",
       "PLZ8_ANTG4                  0.181417\n",
       "PLZ8_HHZ                    3.406587\n",
       "PLZ8_GBZ                    3.930889\n",
       "ARBEIT                      2.126352\n",
       "ORTSGR_KLS9                 3.017102\n",
       "RELAT_AB                    2.015606\n",
       "DECADE                      2.493715\n",
       "MOVEMENT                    1.014850\n",
       "WEALTH                      2.256060\n",
       "LIFE_STAGE                  3.279704\n",
       "Length: 62, dtype: float64"
      ]
     },
     "execution_count": 69,
     "metadata": {},
     "output_type": "execute_result"
    }
   ],
   "source": [
    "overrepresented = pd.Series(data = centroid_5, index = customers_processed.columns)\n",
    "overrepresented"
   ]
  },
  {
   "cell_type": "code",
   "execution_count": 70,
   "metadata": {},
   "outputs": [
    {
     "data": {
      "text/plain": [
       "ALTERSKATEGORIE_GROB        3.697217\n",
       "ANREDE_KZ                   1.491385\n",
       "FINANZ_MINIMALIST           2.544299\n",
       "FINANZ_SPARER               1.097134\n",
       "FINANZ_VORSORGER            4.918448\n",
       "FINANZ_ANLEGER              1.100620\n",
       "FINANZ_UNAUFFAELLIGER       1.093825\n",
       "FINANZ_HAUSBAUER            4.623614\n",
       "GREEN_AVANTGARDE            0.223612\n",
       "HEALTH_TYP                  1.698089\n",
       "RETOURTYP_BK_S              4.368033\n",
       "SEMIO_SOZ                   4.594292\n",
       "SEMIO_FAM                   3.911805\n",
       "SEMIO_REL                   2.471155\n",
       "SEMIO_MAT                   3.962807\n",
       "SEMIO_VERT                  4.544222\n",
       "SEMIO_LUST                  6.352126\n",
       "SEMIO_ERL                   5.463707\n",
       "SEMIO_KULT                  2.894079\n",
       "SEMIO_RAT                   2.340529\n",
       "SEMIO_KRIT                  4.587912\n",
       "SEMIO_DOM                   4.377609\n",
       "SEMIO_KAEM                  4.069785\n",
       "SEMIO_PFLICHT               1.915111\n",
       "SEMIO_TRADV                 1.773753\n",
       "SOHO_KZ                     0.016716\n",
       "VERS_TYP                    1.638788\n",
       "ANZ_PERSONEN                1.316195\n",
       "ANZ_TITEL                   0.065693\n",
       "HH_EINKOMMEN_SCORE          5.811908\n",
       "                            ...     \n",
       "ANZ_HAUSHALTE_AKTIV       221.121978\n",
       "ANZ_HH_TITEL                9.320312\n",
       "KONSUMNAEHE                 1.178206\n",
       "MIN_GEBAEUDEJAHR         1990.591639\n",
       "OST_WEST_KZ                 0.056502\n",
       "KBA05_ANTG1                 0.347797\n",
       "KBA05_ANTG2                 0.434480\n",
       "KBA05_ANTG3                 0.060952\n",
       "KBA05_ANTG4                 1.248052\n",
       "KBA05_GBZ                   1.941070\n",
       "BALLRAUM                    2.940776\n",
       "EWDICHTE                    5.132305\n",
       "INNENSTADT                  3.744227\n",
       "GEBAEUDETYP_RASTER          2.239015\n",
       "MOBI_REGIO                  1.090395\n",
       "ONLINE_AFFINITAET           1.535663\n",
       "KBA13_ANZAHL_PKW          679.660601\n",
       "PLZ8_ANTG1                  1.920780\n",
       "PLZ8_ANTG2                  2.679305\n",
       "PLZ8_ANTG3                  1.784891\n",
       "PLZ8_ANTG4                  1.361240\n",
       "PLZ8_HHZ                    4.266723\n",
       "PLZ8_GBZ                    2.628993\n",
       "ARBEIT                      2.931807\n",
       "ORTSGR_KLS9                 6.807388\n",
       "RELAT_AB                    3.398902\n",
       "DECADE                      1.758512\n",
       "MOVEMENT                    1.235497\n",
       "WEALTH                      5.242393\n",
       "LIFE_STAGE                  5.011215\n",
       "Length: 62, dtype: float64"
      ]
     },
     "execution_count": 70,
     "metadata": {},
     "output_type": "execute_result"
    }
   ],
   "source": [
    "# What kinds of people are part of a cluster that is underrepresented in the\n",
    "# customer data compared to the general population?\n",
    "centroid_10 = scaler.inverse_transform(pca.inverse_transform(kmeans.cluster_centers_[10]))\n",
    "underepresented = pd.Series(data = centroid_10, index = customers_processed.columns)\n",
    "underepresented"
   ]
  },
  {
   "cell_type": "markdown",
   "metadata": {},
   "source": [
    "### Discussion 3.3: Compare Customer Data to Demographics Data\n",
    "\n",
    "Number of 6-10 and 10+ family houses in the region and Household types\n",
    "Life stage Age and finance is popular with mail order company\n",
    "\n"
   ]
  },
  {
   "cell_type": "markdown",
   "metadata": {},
   "source": [
    "> Congratulations on making it this far in the project! Before you finish, make sure to check through the entire notebook from top to bottom to make sure that your analysis follows a logical flow and all of your findings are documented in **Discussion** cells. Once you've checked over all of your work, you should export the notebook as an HTML document to submit for evaluation. You can do this from the menu, navigating to **File -> Download as -> HTML (.html)**. You will submit both that document and this notebook for your project submission."
   ]
  },
  {
   "cell_type": "code",
   "execution_count": null,
   "metadata": {},
   "outputs": [],
   "source": []
  }
 ],
 "metadata": {
  "kernelspec": {
   "display_name": "Python 3",
   "language": "python",
   "name": "python3"
  },
  "language_info": {
   "codemirror_mode": {
    "name": "ipython",
    "version": 3
   },
   "file_extension": ".py",
   "mimetype": "text/x-python",
   "name": "python",
   "nbconvert_exporter": "python",
   "pygments_lexer": "ipython3",
   "version": "3.6.3"
  }
 },
 "nbformat": 4,
 "nbformat_minor": 2
}
